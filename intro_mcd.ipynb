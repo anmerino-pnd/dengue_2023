{
 "cells": [
  {
   "cell_type": "markdown",
   "metadata": {},
   "source": [
    "### Librerías"
   ]
  },
  {
   "cell_type": "code",
   "execution_count": 1,
   "metadata": {},
   "outputs": [],
   "source": [
    "import re\n",
    "import zipfile\n",
    "import sqlite3\n",
    "import requests\n",
    "import pandas as pd\n",
    "from io import BytesIO\n",
    "import plotly.express as px\n",
    "import matplotlib.pyplot as plt"
   ]
  },
  {
   "cell_type": "markdown",
   "metadata": {},
   "source": [
    "### Descarga de datos"
   ]
  },
  {
   "cell_type": "code",
   "execution_count": 2,
   "metadata": {},
   "outputs": [],
   "source": [
    "# Link de descarga de los datos\n",
    "url = \"https://datosabiertos.salud.gob.mx/gobmx/salud/datos_abiertos/etv/historicos/2023/datos_abiertos_dengue_261023.zip\"\n",
    "\n",
    "# Descarga los datos y los guarda en un objeto de tipo BytesIO\n",
    "response = requests.get(url)\n",
    "zip_file = BytesIO(response.content)\n",
    "\n",
    "# Extrae los datos del objeto zip_file\n",
    "with zipfile.ZipFile(zip_file, 'r') as zip_ref:\n",
    "    zip_ref.extractall('.\\\\data') # Cambia 'ruta' por la ruta donde deseas extraer los archivos"
   ]
  },
  {
   "cell_type": "code",
   "execution_count": 3,
   "metadata": {},
   "outputs": [
    {
     "data": {
      "text/html": [
       "<div>\n",
       "<style scoped>\n",
       "    .dataframe tbody tr th:only-of-type {\n",
       "        vertical-align: middle;\n",
       "    }\n",
       "\n",
       "    .dataframe tbody tr th {\n",
       "        vertical-align: top;\n",
       "    }\n",
       "\n",
       "    .dataframe thead th {\n",
       "        text-align: right;\n",
       "    }\n",
       "</style>\n",
       "<table border=\"1\" class=\"dataframe\">\n",
       "  <thead>\n",
       "    <tr style=\"text-align: right;\">\n",
       "      <th></th>\n",
       "      <th>FECHA_ACTUALIZACION</th>\n",
       "      <th>ID_REGISTRO</th>\n",
       "      <th>SEXO</th>\n",
       "      <th>EDAD_ANOS</th>\n",
       "      <th>ENTIDAD_RES</th>\n",
       "      <th>MUNICIPIO_RES</th>\n",
       "      <th>HABLA_LENGUA_INDIG</th>\n",
       "      <th>INDIGENA</th>\n",
       "      <th>ENTIDAD_UM_NOTIF</th>\n",
       "      <th>MUNICIPIO_UM_NOTIF</th>\n",
       "      <th>...</th>\n",
       "      <th>INMUNOSUPR</th>\n",
       "      <th>CIRROSIS_HEPATICA</th>\n",
       "      <th>EMBARAZO</th>\n",
       "      <th>DEFUNCION</th>\n",
       "      <th>DICTAMEN</th>\n",
       "      <th>TOMA_MUESTRA</th>\n",
       "      <th>RESULTADO_PCR</th>\n",
       "      <th>ESTATUS_CASO</th>\n",
       "      <th>ENTIDAD_ASIG</th>\n",
       "      <th>MUNICIPIO_ASIG</th>\n",
       "    </tr>\n",
       "  </thead>\n",
       "  <tbody>\n",
       "    <tr>\n",
       "      <th>0</th>\n",
       "      <td>2023-10-23</td>\n",
       "      <td>1004648</td>\n",
       "      <td>1</td>\n",
       "      <td>17</td>\n",
       "      <td>23</td>\n",
       "      <td>5</td>\n",
       "      <td>2</td>\n",
       "      <td>2</td>\n",
       "      <td>23</td>\n",
       "      <td>5</td>\n",
       "      <td>...</td>\n",
       "      <td>2</td>\n",
       "      <td>2</td>\n",
       "      <td>2</td>\n",
       "      <td>2</td>\n",
       "      <td>5.0</td>\n",
       "      <td>1</td>\n",
       "      <td>3</td>\n",
       "      <td>2</td>\n",
       "      <td>23</td>\n",
       "      <td>5</td>\n",
       "    </tr>\n",
       "    <tr>\n",
       "      <th>1</th>\n",
       "      <td>2023-10-23</td>\n",
       "      <td>1004661</td>\n",
       "      <td>2</td>\n",
       "      <td>25</td>\n",
       "      <td>23</td>\n",
       "      <td>5</td>\n",
       "      <td>2</td>\n",
       "      <td>2</td>\n",
       "      <td>23</td>\n",
       "      <td>5</td>\n",
       "      <td>...</td>\n",
       "      <td>2</td>\n",
       "      <td>2</td>\n",
       "      <td>2</td>\n",
       "      <td>2</td>\n",
       "      <td>5.0</td>\n",
       "      <td>1</td>\n",
       "      <td>5</td>\n",
       "      <td>3</td>\n",
       "      <td>23</td>\n",
       "      <td>5</td>\n",
       "    </tr>\n",
       "    <tr>\n",
       "      <th>2</th>\n",
       "      <td>2023-10-23</td>\n",
       "      <td>1004693</td>\n",
       "      <td>2</td>\n",
       "      <td>8</td>\n",
       "      <td>19</td>\n",
       "      <td>21</td>\n",
       "      <td>2</td>\n",
       "      <td>2</td>\n",
       "      <td>19</td>\n",
       "      <td>21</td>\n",
       "      <td>...</td>\n",
       "      <td>2</td>\n",
       "      <td>2</td>\n",
       "      <td>2</td>\n",
       "      <td>2</td>\n",
       "      <td>5.0</td>\n",
       "      <td>1</td>\n",
       "      <td>5</td>\n",
       "      <td>3</td>\n",
       "      <td>19</td>\n",
       "      <td>21</td>\n",
       "    </tr>\n",
       "    <tr>\n",
       "      <th>3</th>\n",
       "      <td>2023-10-23</td>\n",
       "      <td>1004728</td>\n",
       "      <td>1</td>\n",
       "      <td>64</td>\n",
       "      <td>25</td>\n",
       "      <td>1</td>\n",
       "      <td>2</td>\n",
       "      <td>2</td>\n",
       "      <td>25</td>\n",
       "      <td>1</td>\n",
       "      <td>...</td>\n",
       "      <td>2</td>\n",
       "      <td>2</td>\n",
       "      <td>2</td>\n",
       "      <td>2</td>\n",
       "      <td>5.0</td>\n",
       "      <td>1</td>\n",
       "      <td>5</td>\n",
       "      <td>3</td>\n",
       "      <td>25</td>\n",
       "      <td>1</td>\n",
       "    </tr>\n",
       "    <tr>\n",
       "      <th>4</th>\n",
       "      <td>2023-10-23</td>\n",
       "      <td>1004754</td>\n",
       "      <td>1</td>\n",
       "      <td>30</td>\n",
       "      <td>6</td>\n",
       "      <td>2</td>\n",
       "      <td>2</td>\n",
       "      <td>2</td>\n",
       "      <td>6</td>\n",
       "      <td>2</td>\n",
       "      <td>...</td>\n",
       "      <td>2</td>\n",
       "      <td>2</td>\n",
       "      <td>2</td>\n",
       "      <td>2</td>\n",
       "      <td>5.0</td>\n",
       "      <td>1</td>\n",
       "      <td>5</td>\n",
       "      <td>3</td>\n",
       "      <td>6</td>\n",
       "      <td>2</td>\n",
       "    </tr>\n",
       "  </tbody>\n",
       "</table>\n",
       "<p>5 rows × 28 columns</p>\n",
       "</div>"
      ],
      "text/plain": [
       "  FECHA_ACTUALIZACION  ID_REGISTRO  SEXO  EDAD_ANOS  ENTIDAD_RES   \n",
       "0          2023-10-23      1004648     1         17           23  \\\n",
       "1          2023-10-23      1004661     2         25           23   \n",
       "2          2023-10-23      1004693     2          8           19   \n",
       "3          2023-10-23      1004728     1         64           25   \n",
       "4          2023-10-23      1004754     1         30            6   \n",
       "\n",
       "   MUNICIPIO_RES  HABLA_LENGUA_INDIG  INDIGENA  ENTIDAD_UM_NOTIF   \n",
       "0              5                   2         2                23  \\\n",
       "1              5                   2         2                23   \n",
       "2             21                   2         2                19   \n",
       "3              1                   2         2                25   \n",
       "4              2                   2         2                 6   \n",
       "\n",
       "   MUNICIPIO_UM_NOTIF  ...  INMUNOSUPR CIRROSIS_HEPATICA  EMBARAZO  DEFUNCION   \n",
       "0                   5  ...           2                 2         2          2  \\\n",
       "1                   5  ...           2                 2         2          2   \n",
       "2                  21  ...           2                 2         2          2   \n",
       "3                   1  ...           2                 2         2          2   \n",
       "4                   2  ...           2                 2         2          2   \n",
       "\n",
       "   DICTAMEN  TOMA_MUESTRA  RESULTADO_PCR  ESTATUS_CASO  ENTIDAD_ASIG   \n",
       "0       5.0             1              3             2            23  \\\n",
       "1       5.0             1              5             3            23   \n",
       "2       5.0             1              5             3            19   \n",
       "3       5.0             1              5             3            25   \n",
       "4       5.0             1              5             3             6   \n",
       "\n",
       "   MUNICIPIO_ASIG  \n",
       "0               5  \n",
       "1               5  \n",
       "2              21  \n",
       "3               1  \n",
       "4               2  \n",
       "\n",
       "[5 rows x 28 columns]"
      ]
     },
     "execution_count": 3,
     "metadata": {},
     "output_type": "execute_result"
    }
   ],
   "source": [
    "# Leer el archivo de datos \n",
    "df = pd.read_csv('data/dengue_abierto.csv')\n",
    "\n",
    "# Muestra los primeros registros para verificar que la lectura fue exitosa\n",
    "df.head()"
   ]
  },
  {
   "cell_type": "markdown",
   "metadata": {},
   "source": [
    "### Limpieza de datos"
   ]
  },
  {
   "cell_type": "markdown",
   "metadata": {},
   "source": [
    "Antes de realizar la limpieza de datos, crearemos archivos CSV de los catálogos de las variables no numéricas para facilitar su posterior mapeo."
   ]
  },
  {
   "cell_type": "code",
   "execution_count": 4,
   "metadata": {},
   "outputs": [],
   "source": [
    "# Crear diccionarios csv\n",
    "diccionario = pd.read_excel('Catálogos_Dengue.xlsx', sheet_name=None)\n",
    "\n",
    "# Sacamos los diccionarios en formato csv leyendo cada sheet del archivo\n",
    "for sheet_name, sheet_data in diccionario.items():\n",
    "    # Reemplaza los espacios en el nombre de la hoja con guiones bajos\n",
    "    nombre_archivo_csv = f\"{re.sub(r'C[ÁA]T[ÁA]LOGO', '', sheet_name).replace(' ', '')}.csv\"\n",
    "    sheet_data.to_csv(f'data/{nombre_archivo_csv}', index=False)"
   ]
  },
  {
   "cell_type": "markdown",
   "metadata": {},
   "source": [
    "Buscando por datos `NA`, vemos que solo la variable \"DICTAMEN\" tiene 2 valores `NA`. Cambiaremos estos valores a \"5\", este valor significa \"NO APLICA\" como se ve en su catálogo."
   ]
  },
  {
   "cell_type": "code",
   "execution_count": 5,
   "metadata": {},
   "outputs": [
    {
     "data": {
      "text/plain": [
       "FECHA_ACTUALIZACION       0\n",
       "ID_REGISTRO               0\n",
       "SEXO                      0\n",
       "EDAD_ANOS                 0\n",
       "ENTIDAD_RES               0\n",
       "MUNICIPIO_RES             0\n",
       "HABLA_LENGUA_INDIG        0\n",
       "INDIGENA                  0\n",
       "ENTIDAD_UM_NOTIF          0\n",
       "MUNICIPIO_UM_NOTIF        0\n",
       "INSTITUCION_UM_NOTIF      0\n",
       "FECHA_SIGN_SINTOMAS       0\n",
       "TIPO_PACIENTE             0\n",
       "HEMORRAGICOS              0\n",
       "DIABETES                  0\n",
       "HIPERTENSION              0\n",
       "ENFERMEDAD_ULC_PEPTICA    0\n",
       "ENFERMEDAD_RENAL          0\n",
       "INMUNOSUPR                0\n",
       "CIRROSIS_HEPATICA         0\n",
       "EMBARAZO                  0\n",
       "DEFUNCION                 0\n",
       "DICTAMEN                  2\n",
       "TOMA_MUESTRA              0\n",
       "RESULTADO_PCR             0\n",
       "ESTATUS_CASO              0\n",
       "ENTIDAD_ASIG              0\n",
       "MUNICIPIO_ASIG            0\n",
       "dtype: int64"
      ]
     },
     "execution_count": 5,
     "metadata": {},
     "output_type": "execute_result"
    }
   ],
   "source": [
    "# Verificamos si hay valores nulos\n",
    "df.isna().sum()"
   ]
  },
  {
   "cell_type": "code",
   "execution_count": 6,
   "metadata": {},
   "outputs": [],
   "source": [
    "# Reemplazamos los valores nulos de la columna 'DICTAMEN' por 5, que es el valor que indica que no se tiene dictamen\n",
    "df['DICTAMEN'] = df['DICTAMEN'].fillna(5)"
   ]
  },
  {
   "cell_type": "code",
   "execution_count": 7,
   "metadata": {},
   "outputs": [
    {
     "data": {
      "text/plain": [
       "FECHA_ACTUALIZACION       0\n",
       "ID_REGISTRO               0\n",
       "SEXO                      0\n",
       "EDAD_ANOS                 0\n",
       "ENTIDAD_RES               0\n",
       "MUNICIPIO_RES             0\n",
       "HABLA_LENGUA_INDIG        0\n",
       "INDIGENA                  0\n",
       "ENTIDAD_UM_NOTIF          0\n",
       "MUNICIPIO_UM_NOTIF        0\n",
       "INSTITUCION_UM_NOTIF      0\n",
       "FECHA_SIGN_SINTOMAS       0\n",
       "TIPO_PACIENTE             0\n",
       "HEMORRAGICOS              0\n",
       "DIABETES                  0\n",
       "HIPERTENSION              0\n",
       "ENFERMEDAD_ULC_PEPTICA    0\n",
       "ENFERMEDAD_RENAL          0\n",
       "INMUNOSUPR                0\n",
       "CIRROSIS_HEPATICA         0\n",
       "EMBARAZO                  0\n",
       "DEFUNCION                 0\n",
       "DICTAMEN                  0\n",
       "TOMA_MUESTRA              0\n",
       "RESULTADO_PCR             0\n",
       "ESTATUS_CASO              0\n",
       "ENTIDAD_ASIG              0\n",
       "MUNICIPIO_ASIG            0\n",
       "dtype: int64"
      ]
     },
     "execution_count": 7,
     "metadata": {},
     "output_type": "execute_result"
    }
   ],
   "source": [
    "# Verificamos los cambios\n",
    "df.isna().sum()"
   ]
  },
  {
   "cell_type": "markdown",
   "metadata": {},
   "source": [
    "### Creación de base de datos"
   ]
  },
  {
   "cell_type": "code",
   "execution_count": 8,
   "metadata": {},
   "outputs": [],
   "source": [
    "# Crear la base de datos SQLite\n",
    "conn = sqlite3.connect('mcd.db')\n",
    "\n",
    "# Enviar el DataFrame a la base de datos SQLite\n",
    "df.to_sql('dengue_2023', conn, index=False, if_exists='replace')\n",
    "\n",
    "# Cerrar la conexión\n",
    "conn.close()"
   ]
  },
  {
   "cell_type": "markdown",
   "metadata": {},
   "source": [
    "### Limpieza de los datos"
   ]
  },
  {
   "cell_type": "code",
   "execution_count": 9,
   "metadata": {},
   "outputs": [
    {
     "data": {
      "text/html": [
       "<div>\n",
       "<style scoped>\n",
       "    .dataframe tbody tr th:only-of-type {\n",
       "        vertical-align: middle;\n",
       "    }\n",
       "\n",
       "    .dataframe tbody tr th {\n",
       "        vertical-align: top;\n",
       "    }\n",
       "\n",
       "    .dataframe thead th {\n",
       "        text-align: right;\n",
       "    }\n",
       "</style>\n",
       "<table border=\"1\" class=\"dataframe\">\n",
       "  <thead>\n",
       "    <tr style=\"text-align: right;\">\n",
       "      <th></th>\n",
       "      <th>FECHA_ACTUALIZACION</th>\n",
       "      <th>ID_REGISTRO</th>\n",
       "      <th>SEXO</th>\n",
       "      <th>EDAD_ANOS</th>\n",
       "      <th>ENTIDAD_RES</th>\n",
       "      <th>MUNICIPIO_RES</th>\n",
       "      <th>HABLA_LENGUA_INDIG</th>\n",
       "      <th>INDIGENA</th>\n",
       "      <th>ENTIDAD_UM_NOTIF</th>\n",
       "      <th>MUNICIPIO_UM_NOTIF</th>\n",
       "      <th>...</th>\n",
       "      <th>INMUNOSUPR</th>\n",
       "      <th>CIRROSIS_HEPATICA</th>\n",
       "      <th>EMBARAZO</th>\n",
       "      <th>DEFUNCION</th>\n",
       "      <th>DICTAMEN</th>\n",
       "      <th>TOMA_MUESTRA</th>\n",
       "      <th>RESULTADO_PCR</th>\n",
       "      <th>ESTATUS_CASO</th>\n",
       "      <th>ENTIDAD_ASIG</th>\n",
       "      <th>MUNICIPIO_ASIG</th>\n",
       "    </tr>\n",
       "  </thead>\n",
       "  <tbody>\n",
       "    <tr>\n",
       "      <th>0</th>\n",
       "      <td>2023-10-23</td>\n",
       "      <td>1004648</td>\n",
       "      <td>1</td>\n",
       "      <td>17</td>\n",
       "      <td>23</td>\n",
       "      <td>5</td>\n",
       "      <td>2</td>\n",
       "      <td>2</td>\n",
       "      <td>23</td>\n",
       "      <td>5</td>\n",
       "      <td>...</td>\n",
       "      <td>2</td>\n",
       "      <td>2</td>\n",
       "      <td>2</td>\n",
       "      <td>2</td>\n",
       "      <td>5.0</td>\n",
       "      <td>1</td>\n",
       "      <td>3</td>\n",
       "      <td>2</td>\n",
       "      <td>23</td>\n",
       "      <td>5</td>\n",
       "    </tr>\n",
       "    <tr>\n",
       "      <th>1</th>\n",
       "      <td>2023-10-23</td>\n",
       "      <td>1004661</td>\n",
       "      <td>2</td>\n",
       "      <td>25</td>\n",
       "      <td>23</td>\n",
       "      <td>5</td>\n",
       "      <td>2</td>\n",
       "      <td>2</td>\n",
       "      <td>23</td>\n",
       "      <td>5</td>\n",
       "      <td>...</td>\n",
       "      <td>2</td>\n",
       "      <td>2</td>\n",
       "      <td>2</td>\n",
       "      <td>2</td>\n",
       "      <td>5.0</td>\n",
       "      <td>1</td>\n",
       "      <td>5</td>\n",
       "      <td>3</td>\n",
       "      <td>23</td>\n",
       "      <td>5</td>\n",
       "    </tr>\n",
       "    <tr>\n",
       "      <th>2</th>\n",
       "      <td>2023-10-23</td>\n",
       "      <td>1004693</td>\n",
       "      <td>2</td>\n",
       "      <td>8</td>\n",
       "      <td>19</td>\n",
       "      <td>21</td>\n",
       "      <td>2</td>\n",
       "      <td>2</td>\n",
       "      <td>19</td>\n",
       "      <td>21</td>\n",
       "      <td>...</td>\n",
       "      <td>2</td>\n",
       "      <td>2</td>\n",
       "      <td>2</td>\n",
       "      <td>2</td>\n",
       "      <td>5.0</td>\n",
       "      <td>1</td>\n",
       "      <td>5</td>\n",
       "      <td>3</td>\n",
       "      <td>19</td>\n",
       "      <td>21</td>\n",
       "    </tr>\n",
       "    <tr>\n",
       "      <th>3</th>\n",
       "      <td>2023-10-23</td>\n",
       "      <td>1004728</td>\n",
       "      <td>1</td>\n",
       "      <td>64</td>\n",
       "      <td>25</td>\n",
       "      <td>1</td>\n",
       "      <td>2</td>\n",
       "      <td>2</td>\n",
       "      <td>25</td>\n",
       "      <td>1</td>\n",
       "      <td>...</td>\n",
       "      <td>2</td>\n",
       "      <td>2</td>\n",
       "      <td>2</td>\n",
       "      <td>2</td>\n",
       "      <td>5.0</td>\n",
       "      <td>1</td>\n",
       "      <td>5</td>\n",
       "      <td>3</td>\n",
       "      <td>25</td>\n",
       "      <td>1</td>\n",
       "    </tr>\n",
       "    <tr>\n",
       "      <th>4</th>\n",
       "      <td>2023-10-23</td>\n",
       "      <td>1004754</td>\n",
       "      <td>1</td>\n",
       "      <td>30</td>\n",
       "      <td>6</td>\n",
       "      <td>2</td>\n",
       "      <td>2</td>\n",
       "      <td>2</td>\n",
       "      <td>6</td>\n",
       "      <td>2</td>\n",
       "      <td>...</td>\n",
       "      <td>2</td>\n",
       "      <td>2</td>\n",
       "      <td>2</td>\n",
       "      <td>2</td>\n",
       "      <td>5.0</td>\n",
       "      <td>1</td>\n",
       "      <td>5</td>\n",
       "      <td>3</td>\n",
       "      <td>6</td>\n",
       "      <td>2</td>\n",
       "    </tr>\n",
       "  </tbody>\n",
       "</table>\n",
       "<p>5 rows × 28 columns</p>\n",
       "</div>"
      ],
      "text/plain": [
       "  FECHA_ACTUALIZACION  ID_REGISTRO  SEXO  EDAD_ANOS  ENTIDAD_RES   \n",
       "0          2023-10-23      1004648     1         17           23  \\\n",
       "1          2023-10-23      1004661     2         25           23   \n",
       "2          2023-10-23      1004693     2          8           19   \n",
       "3          2023-10-23      1004728     1         64           25   \n",
       "4          2023-10-23      1004754     1         30            6   \n",
       "\n",
       "   MUNICIPIO_RES  HABLA_LENGUA_INDIG  INDIGENA  ENTIDAD_UM_NOTIF   \n",
       "0              5                   2         2                23  \\\n",
       "1              5                   2         2                23   \n",
       "2             21                   2         2                19   \n",
       "3              1                   2         2                25   \n",
       "4              2                   2         2                 6   \n",
       "\n",
       "   MUNICIPIO_UM_NOTIF  ...  INMUNOSUPR CIRROSIS_HEPATICA  EMBARAZO  DEFUNCION   \n",
       "0                   5  ...           2                 2         2          2  \\\n",
       "1                   5  ...           2                 2         2          2   \n",
       "2                  21  ...           2                 2         2          2   \n",
       "3                   1  ...           2                 2         2          2   \n",
       "4                   2  ...           2                 2         2          2   \n",
       "\n",
       "   DICTAMEN  TOMA_MUESTRA  RESULTADO_PCR  ESTATUS_CASO  ENTIDAD_ASIG   \n",
       "0       5.0             1              3             2            23  \\\n",
       "1       5.0             1              5             3            23   \n",
       "2       5.0             1              5             3            19   \n",
       "3       5.0             1              5             3            25   \n",
       "4       5.0             1              5             3             6   \n",
       "\n",
       "   MUNICIPIO_ASIG  \n",
       "0               5  \n",
       "1               5  \n",
       "2              21  \n",
       "3               1  \n",
       "4               2  \n",
       "\n",
       "[5 rows x 28 columns]"
      ]
     },
     "execution_count": 9,
     "metadata": {},
     "output_type": "execute_result"
    }
   ],
   "source": [
    "# Leer el dataframe desde la base de datos SQLite\n",
    "conn = sqlite3.connect('mcd.db')\n",
    "df = pd.read_sql('SELECT * FROM dengue_2023', conn)\n",
    "\n",
    "# Muestra los primeros registros para verificar que la lectura fue exitosa\n",
    "df.head()"
   ]
  },
  {
   "cell_type": "code",
   "execution_count": 10,
   "metadata": {},
   "outputs": [
    {
     "name": "stdout",
     "output_type": "stream",
     "text": [
      "<class 'pandas.core.frame.DataFrame'>\n",
      "RangeIndex: 202762 entries, 0 to 202761\n",
      "Data columns (total 28 columns):\n",
      " #   Column                  Non-Null Count   Dtype  \n",
      "---  ------                  --------------   -----  \n",
      " 0   FECHA_ACTUALIZACION     202762 non-null  object \n",
      " 1   ID_REGISTRO             202762 non-null  int64  \n",
      " 2   SEXO                    202762 non-null  int64  \n",
      " 3   EDAD_ANOS               202762 non-null  int64  \n",
      " 4   ENTIDAD_RES             202762 non-null  int64  \n",
      " 5   MUNICIPIO_RES           202762 non-null  int64  \n",
      " 6   HABLA_LENGUA_INDIG      202762 non-null  int64  \n",
      " 7   INDIGENA                202762 non-null  int64  \n",
      " 8   ENTIDAD_UM_NOTIF        202762 non-null  int64  \n",
      " 9   MUNICIPIO_UM_NOTIF      202762 non-null  int64  \n",
      " 10  INSTITUCION_UM_NOTIF    202762 non-null  int64  \n",
      " 11  FECHA_SIGN_SINTOMAS     202762 non-null  object \n",
      " 12  TIPO_PACIENTE           202762 non-null  int64  \n",
      " 13  HEMORRAGICOS            202762 non-null  int64  \n",
      " 14  DIABETES                202762 non-null  int64  \n",
      " 15  HIPERTENSION            202762 non-null  int64  \n",
      " 16  ENFERMEDAD_ULC_PEPTICA  202762 non-null  int64  \n",
      " 17  ENFERMEDAD_RENAL        202762 non-null  int64  \n",
      " 18  INMUNOSUPR              202762 non-null  int64  \n",
      " 19  CIRROSIS_HEPATICA       202762 non-null  int64  \n",
      " 20  EMBARAZO                202762 non-null  int64  \n",
      " 21  DEFUNCION               202762 non-null  int64  \n",
      " 22  DICTAMEN                202762 non-null  float64\n",
      " 23  TOMA_MUESTRA            202762 non-null  int64  \n",
      " 24  RESULTADO_PCR           202762 non-null  int64  \n",
      " 25  ESTATUS_CASO            202762 non-null  int64  \n",
      " 26  ENTIDAD_ASIG            202762 non-null  int64  \n",
      " 27  MUNICIPIO_ASIG          202762 non-null  int64  \n",
      "dtypes: float64(1), int64(25), object(2)\n",
      "memory usage: 43.3+ MB\n"
     ]
    }
   ],
   "source": [
    "# Analizamos la estructura de los datos\n",
    "df.info()"
   ]
  },
  {
   "cell_type": "code",
   "execution_count": 11,
   "metadata": {},
   "outputs": [
    {
     "data": {
      "text/html": [
       "<div>\n",
       "<style scoped>\n",
       "    .dataframe tbody tr th:only-of-type {\n",
       "        vertical-align: middle;\n",
       "    }\n",
       "\n",
       "    .dataframe tbody tr th {\n",
       "        vertical-align: top;\n",
       "    }\n",
       "\n",
       "    .dataframe thead th {\n",
       "        text-align: right;\n",
       "    }\n",
       "</style>\n",
       "<table border=\"1\" class=\"dataframe\">\n",
       "  <thead>\n",
       "    <tr style=\"text-align: right;\">\n",
       "      <th></th>\n",
       "      <th>ID_REGISTRO</th>\n",
       "      <th>SEXO</th>\n",
       "      <th>EDAD_ANOS</th>\n",
       "      <th>ENTIDAD_RES</th>\n",
       "      <th>MUNICIPIO_RES</th>\n",
       "      <th>HABLA_LENGUA_INDIG</th>\n",
       "      <th>INDIGENA</th>\n",
       "      <th>ENTIDAD_UM_NOTIF</th>\n",
       "      <th>MUNICIPIO_UM_NOTIF</th>\n",
       "      <th>INSTITUCION_UM_NOTIF</th>\n",
       "      <th>...</th>\n",
       "      <th>INMUNOSUPR</th>\n",
       "      <th>CIRROSIS_HEPATICA</th>\n",
       "      <th>EMBARAZO</th>\n",
       "      <th>DEFUNCION</th>\n",
       "      <th>DICTAMEN</th>\n",
       "      <th>TOMA_MUESTRA</th>\n",
       "      <th>RESULTADO_PCR</th>\n",
       "      <th>ESTATUS_CASO</th>\n",
       "      <th>ENTIDAD_ASIG</th>\n",
       "      <th>MUNICIPIO_ASIG</th>\n",
       "    </tr>\n",
       "  </thead>\n",
       "  <tbody>\n",
       "    <tr>\n",
       "      <th>count</th>\n",
       "      <td>2.027620e+05</td>\n",
       "      <td>202762.000000</td>\n",
       "      <td>202762.000000</td>\n",
       "      <td>202762.000000</td>\n",
       "      <td>202762.000000</td>\n",
       "      <td>202762.000000</td>\n",
       "      <td>202762.000000</td>\n",
       "      <td>202762.000000</td>\n",
       "      <td>202762.000000</td>\n",
       "      <td>202762.000000</td>\n",
       "      <td>...</td>\n",
       "      <td>202762.000000</td>\n",
       "      <td>202762.000000</td>\n",
       "      <td>202762.000000</td>\n",
       "      <td>202762.000000</td>\n",
       "      <td>202762.000000</td>\n",
       "      <td>202762.000000</td>\n",
       "      <td>202762.000000</td>\n",
       "      <td>202762.000000</td>\n",
       "      <td>202762.000000</td>\n",
       "      <td>202762.000000</td>\n",
       "    </tr>\n",
       "    <tr>\n",
       "      <th>mean</th>\n",
       "      <td>1.114941e+06</td>\n",
       "      <td>1.462005</td>\n",
       "      <td>27.355318</td>\n",
       "      <td>21.841652</td>\n",
       "      <td>61.846268</td>\n",
       "      <td>1.975104</td>\n",
       "      <td>1.967558</td>\n",
       "      <td>21.857123</td>\n",
       "      <td>60.034735</td>\n",
       "      <td>7.617497</td>\n",
       "      <td>...</td>\n",
       "      <td>1.998210</td>\n",
       "      <td>1.999137</td>\n",
       "      <td>1.988173</td>\n",
       "      <td>1.996755</td>\n",
       "      <td>4.994836</td>\n",
       "      <td>1.535589</td>\n",
       "      <td>4.801822</td>\n",
       "      <td>1.573125</td>\n",
       "      <td>21.963440</td>\n",
       "      <td>62.893096</td>\n",
       "    </tr>\n",
       "    <tr>\n",
       "      <th>std</th>\n",
       "      <td>6.197239e+04</td>\n",
       "      <td>0.498555</td>\n",
       "      <td>17.908616</td>\n",
       "      <td>8.490932</td>\n",
       "      <td>81.429470</td>\n",
       "      <td>0.155809</td>\n",
       "      <td>0.177171</td>\n",
       "      <td>8.487523</td>\n",
       "      <td>81.969824</td>\n",
       "      <td>4.396052</td>\n",
       "      <td>...</td>\n",
       "      <td>0.042274</td>\n",
       "      <td>0.029366</td>\n",
       "      <td>0.108106</td>\n",
       "      <td>0.056874</td>\n",
       "      <td>0.107876</td>\n",
       "      <td>0.498733</td>\n",
       "      <td>0.715866</td>\n",
       "      <td>0.795658</td>\n",
       "      <td>8.829502</td>\n",
       "      <td>86.889775</td>\n",
       "    </tr>\n",
       "    <tr>\n",
       "      <th>min</th>\n",
       "      <td>8.527270e+05</td>\n",
       "      <td>1.000000</td>\n",
       "      <td>0.000000</td>\n",
       "      <td>1.000000</td>\n",
       "      <td>1.000000</td>\n",
       "      <td>1.000000</td>\n",
       "      <td>1.000000</td>\n",
       "      <td>1.000000</td>\n",
       "      <td>0.000000</td>\n",
       "      <td>1.000000</td>\n",
       "      <td>...</td>\n",
       "      <td>1.000000</td>\n",
       "      <td>1.000000</td>\n",
       "      <td>1.000000</td>\n",
       "      <td>1.000000</td>\n",
       "      <td>1.000000</td>\n",
       "      <td>1.000000</td>\n",
       "      <td>1.000000</td>\n",
       "      <td>1.000000</td>\n",
       "      <td>1.000000</td>\n",
       "      <td>0.000000</td>\n",
       "    </tr>\n",
       "    <tr>\n",
       "      <th>25%</th>\n",
       "      <td>1.062482e+06</td>\n",
       "      <td>1.000000</td>\n",
       "      <td>13.000000</td>\n",
       "      <td>17.000000</td>\n",
       "      <td>9.000000</td>\n",
       "      <td>2.000000</td>\n",
       "      <td>2.000000</td>\n",
       "      <td>17.000000</td>\n",
       "      <td>8.000000</td>\n",
       "      <td>4.000000</td>\n",
       "      <td>...</td>\n",
       "      <td>2.000000</td>\n",
       "      <td>2.000000</td>\n",
       "      <td>2.000000</td>\n",
       "      <td>2.000000</td>\n",
       "      <td>5.000000</td>\n",
       "      <td>1.000000</td>\n",
       "      <td>5.000000</td>\n",
       "      <td>1.000000</td>\n",
       "      <td>17.000000</td>\n",
       "      <td>9.000000</td>\n",
       "    </tr>\n",
       "    <tr>\n",
       "      <th>50%</th>\n",
       "      <td>1.116200e+06</td>\n",
       "      <td>1.000000</td>\n",
       "      <td>24.000000</td>\n",
       "      <td>23.000000</td>\n",
       "      <td>44.000000</td>\n",
       "      <td>2.000000</td>\n",
       "      <td>2.000000</td>\n",
       "      <td>23.000000</td>\n",
       "      <td>44.000000</td>\n",
       "      <td>5.000000</td>\n",
       "      <td>...</td>\n",
       "      <td>2.000000</td>\n",
       "      <td>2.000000</td>\n",
       "      <td>2.000000</td>\n",
       "      <td>2.000000</td>\n",
       "      <td>5.000000</td>\n",
       "      <td>2.000000</td>\n",
       "      <td>5.000000</td>\n",
       "      <td>1.000000</td>\n",
       "      <td>23.000000</td>\n",
       "      <td>44.000000</td>\n",
       "    </tr>\n",
       "    <tr>\n",
       "      <th>75%</th>\n",
       "      <td>1.168415e+06</td>\n",
       "      <td>2.000000</td>\n",
       "      <td>39.000000</td>\n",
       "      <td>30.000000</td>\n",
       "      <td>85.000000</td>\n",
       "      <td>2.000000</td>\n",
       "      <td>2.000000</td>\n",
       "      <td>30.000000</td>\n",
       "      <td>82.000000</td>\n",
       "      <td>12.000000</td>\n",
       "      <td>...</td>\n",
       "      <td>2.000000</td>\n",
       "      <td>2.000000</td>\n",
       "      <td>2.000000</td>\n",
       "      <td>2.000000</td>\n",
       "      <td>5.000000</td>\n",
       "      <td>2.000000</td>\n",
       "      <td>5.000000</td>\n",
       "      <td>2.000000</td>\n",
       "      <td>30.000000</td>\n",
       "      <td>85.000000</td>\n",
       "    </tr>\n",
       "    <tr>\n",
       "      <th>max</th>\n",
       "      <td>1.220335e+06</td>\n",
       "      <td>2.000000</td>\n",
       "      <td>118.000000</td>\n",
       "      <td>35.000000</td>\n",
       "      <td>570.000000</td>\n",
       "      <td>2.000000</td>\n",
       "      <td>2.000000</td>\n",
       "      <td>32.000000</td>\n",
       "      <td>999.000000</td>\n",
       "      <td>99.000000</td>\n",
       "      <td>...</td>\n",
       "      <td>2.000000</td>\n",
       "      <td>2.000000</td>\n",
       "      <td>2.000000</td>\n",
       "      <td>2.000000</td>\n",
       "      <td>5.000000</td>\n",
       "      <td>2.000000</td>\n",
       "      <td>5.000000</td>\n",
       "      <td>3.000000</td>\n",
       "      <td>99.000000</td>\n",
       "      <td>999.000000</td>\n",
       "    </tr>\n",
       "  </tbody>\n",
       "</table>\n",
       "<p>8 rows × 26 columns</p>\n",
       "</div>"
      ],
      "text/plain": [
       "        ID_REGISTRO           SEXO      EDAD_ANOS    ENTIDAD_RES   \n",
       "count  2.027620e+05  202762.000000  202762.000000  202762.000000  \\\n",
       "mean   1.114941e+06       1.462005      27.355318      21.841652   \n",
       "std    6.197239e+04       0.498555      17.908616       8.490932   \n",
       "min    8.527270e+05       1.000000       0.000000       1.000000   \n",
       "25%    1.062482e+06       1.000000      13.000000      17.000000   \n",
       "50%    1.116200e+06       1.000000      24.000000      23.000000   \n",
       "75%    1.168415e+06       2.000000      39.000000      30.000000   \n",
       "max    1.220335e+06       2.000000     118.000000      35.000000   \n",
       "\n",
       "       MUNICIPIO_RES  HABLA_LENGUA_INDIG       INDIGENA  ENTIDAD_UM_NOTIF   \n",
       "count  202762.000000       202762.000000  202762.000000     202762.000000  \\\n",
       "mean       61.846268            1.975104       1.967558         21.857123   \n",
       "std        81.429470            0.155809       0.177171          8.487523   \n",
       "min         1.000000            1.000000       1.000000          1.000000   \n",
       "25%         9.000000            2.000000       2.000000         17.000000   \n",
       "50%        44.000000            2.000000       2.000000         23.000000   \n",
       "75%        85.000000            2.000000       2.000000         30.000000   \n",
       "max       570.000000            2.000000       2.000000         32.000000   \n",
       "\n",
       "       MUNICIPIO_UM_NOTIF  INSTITUCION_UM_NOTIF  ...     INMUNOSUPR   \n",
       "count       202762.000000         202762.000000  ...  202762.000000  \\\n",
       "mean            60.034735              7.617497  ...       1.998210   \n",
       "std             81.969824              4.396052  ...       0.042274   \n",
       "min              0.000000              1.000000  ...       1.000000   \n",
       "25%              8.000000              4.000000  ...       2.000000   \n",
       "50%             44.000000              5.000000  ...       2.000000   \n",
       "75%             82.000000             12.000000  ...       2.000000   \n",
       "max            999.000000             99.000000  ...       2.000000   \n",
       "\n",
       "       CIRROSIS_HEPATICA       EMBARAZO      DEFUNCION       DICTAMEN   \n",
       "count      202762.000000  202762.000000  202762.000000  202762.000000  \\\n",
       "mean            1.999137       1.988173       1.996755       4.994836   \n",
       "std             0.029366       0.108106       0.056874       0.107876   \n",
       "min             1.000000       1.000000       1.000000       1.000000   \n",
       "25%             2.000000       2.000000       2.000000       5.000000   \n",
       "50%             2.000000       2.000000       2.000000       5.000000   \n",
       "75%             2.000000       2.000000       2.000000       5.000000   \n",
       "max             2.000000       2.000000       2.000000       5.000000   \n",
       "\n",
       "        TOMA_MUESTRA  RESULTADO_PCR   ESTATUS_CASO   ENTIDAD_ASIG   \n",
       "count  202762.000000  202762.000000  202762.000000  202762.000000  \\\n",
       "mean        1.535589       4.801822       1.573125      21.963440   \n",
       "std         0.498733       0.715866       0.795658       8.829502   \n",
       "min         1.000000       1.000000       1.000000       1.000000   \n",
       "25%         1.000000       5.000000       1.000000      17.000000   \n",
       "50%         2.000000       5.000000       1.000000      23.000000   \n",
       "75%         2.000000       5.000000       2.000000      30.000000   \n",
       "max         2.000000       5.000000       3.000000      99.000000   \n",
       "\n",
       "       MUNICIPIO_ASIG  \n",
       "count   202762.000000  \n",
       "mean        62.893096  \n",
       "std         86.889775  \n",
       "min          0.000000  \n",
       "25%          9.000000  \n",
       "50%         44.000000  \n",
       "75%         85.000000  \n",
       "max        999.000000  \n",
       "\n",
       "[8 rows x 26 columns]"
      ]
     },
     "execution_count": 11,
     "metadata": {},
     "output_type": "execute_result"
    }
   ],
   "source": [
    "# Analizamos la estadística descriptiva de los datos\n",
    "df.describe()"
   ]
  },
  {
   "cell_type": "markdown",
   "metadata": {},
   "source": [
    "Ahora, al explorar los catálogos nos damos cuenta de que solo tenemos números, a lo más, de 3 dígitos. Por lo que cambiaremos los tipos `int64` y `float64` a `uint8`."
   ]
  },
  {
   "cell_type": "code",
   "execution_count": 12,
   "metadata": {},
   "outputs": [],
   "source": [
    "# Seleccionamos las columnas con cada tipo\n",
    "int64_columns = df.select_dtypes(include='int64').columns\n",
    "float64_columns = df.select_dtypes(include='float64').columns\n",
    "\n",
    "# Convertertimos las columnas int64 y float64 a uint16\n",
    "df[int64_columns] = df[int64_columns].astype('uint16')\n",
    "df[float64_columns] = df[float64_columns].astype('uint16')"
   ]
  },
  {
   "cell_type": "markdown",
   "metadata": {},
   "source": [
    "También, cambiaremos los tipos de las variables temporales a `datetime`, tomando solamente la fecha y no la hora."
   ]
  },
  {
   "cell_type": "code",
   "execution_count": 13,
   "metadata": {},
   "outputs": [],
   "source": [
    "df['FECHA_ACTUALIZACION'] = pd.to_datetime(df['FECHA_ACTUALIZACION'], format='%Y-%m-%d')\n",
    "df['FECHA_SIGN_SINTOMAS'] = pd.to_datetime(df['FECHA_SIGN_SINTOMAS'], format='%Y-%m-%d')"
   ]
  },
  {
   "cell_type": "code",
   "execution_count": 14,
   "metadata": {},
   "outputs": [
    {
     "name": "stdout",
     "output_type": "stream",
     "text": [
      "<class 'pandas.core.frame.DataFrame'>\n",
      "RangeIndex: 202762 entries, 0 to 202761\n",
      "Data columns (total 28 columns):\n",
      " #   Column                  Non-Null Count   Dtype         \n",
      "---  ------                  --------------   -----         \n",
      " 0   FECHA_ACTUALIZACION     202762 non-null  datetime64[ns]\n",
      " 1   ID_REGISTRO             202762 non-null  uint16        \n",
      " 2   SEXO                    202762 non-null  uint16        \n",
      " 3   EDAD_ANOS               202762 non-null  uint16        \n",
      " 4   ENTIDAD_RES             202762 non-null  uint16        \n",
      " 5   MUNICIPIO_RES           202762 non-null  uint16        \n",
      " 6   HABLA_LENGUA_INDIG      202762 non-null  uint16        \n",
      " 7   INDIGENA                202762 non-null  uint16        \n",
      " 8   ENTIDAD_UM_NOTIF        202762 non-null  uint16        \n",
      " 9   MUNICIPIO_UM_NOTIF      202762 non-null  uint16        \n",
      " 10  INSTITUCION_UM_NOTIF    202762 non-null  uint16        \n",
      " 11  FECHA_SIGN_SINTOMAS     202762 non-null  datetime64[ns]\n",
      " 12  TIPO_PACIENTE           202762 non-null  uint16        \n",
      " 13  HEMORRAGICOS            202762 non-null  uint16        \n",
      " 14  DIABETES                202762 non-null  uint16        \n",
      " 15  HIPERTENSION            202762 non-null  uint16        \n",
      " 16  ENFERMEDAD_ULC_PEPTICA  202762 non-null  uint16        \n",
      " 17  ENFERMEDAD_RENAL        202762 non-null  uint16        \n",
      " 18  INMUNOSUPR              202762 non-null  uint16        \n",
      " 19  CIRROSIS_HEPATICA       202762 non-null  uint16        \n",
      " 20  EMBARAZO                202762 non-null  uint16        \n",
      " 21  DEFUNCION               202762 non-null  uint16        \n",
      " 22  DICTAMEN                202762 non-null  uint16        \n",
      " 23  TOMA_MUESTRA            202762 non-null  uint16        \n",
      " 24  RESULTADO_PCR           202762 non-null  uint16        \n",
      " 25  ESTATUS_CASO            202762 non-null  uint16        \n",
      " 26  ENTIDAD_ASIG            202762 non-null  uint16        \n",
      " 27  MUNICIPIO_ASIG          202762 non-null  uint16        \n",
      "dtypes: datetime64[ns](2), uint16(26)\n",
      "memory usage: 13.1 MB\n"
     ]
    }
   ],
   "source": [
    "# Verificamos los cambios\n",
    "df.info()"
   ]
  },
  {
   "cell_type": "markdown",
   "metadata": {},
   "source": [
    "> Este cambio lo hacemos para reducir el espacio de memoria y optimizar el rendimiento del algoritmo."
   ]
  },
  {
   "cell_type": "markdown",
   "metadata": {},
   "source": [
    "### Exploración de la base de datos"
   ]
  },
  {
   "cell_type": "markdown",
   "metadata": {},
   "source": [
    "Primero exploraremos a nivel nacional los casos de dengue, para tener una vista general de la situación de dengue en el 2023. Se observa que en el mes de septiembre hubo un repunte de casos, lo cual es de esperarse al estarse acabando la temporada de lluvias en México. Siendo la humedad un factor favorable para la reproducción de los mosquitos. Por otro lado, los mosquitos no toleran las bajas temperaturas, por consiguiente, los casos bajan en invierno."
   ]
  },
  {
   "cell_type": "code",
   "execution_count": 15,
   "metadata": {},
   "outputs": [
    {
     "data": {
      "application/vnd.plotly.v1+json": {
       "config": {
        "plotlyServerURL": "https://plot.ly"
       },
       "data": [
        {
         "hovertemplate": "FECHA_SIGN_SINTOMAS=%{x}<br>CASOS=%{y}<extra></extra>",
         "legendgroup": "",
         "line": {
          "color": "#636efa",
          "dash": "solid"
         },
         "marker": {
          "symbol": "circle"
         },
         "mode": "lines",
         "name": "",
         "orientation": "v",
         "showlegend": false,
         "type": "scatter",
         "x": [
          "2023-01-01T00:00:00",
          "2023-01-02T00:00:00",
          "2023-01-03T00:00:00",
          "2023-01-04T00:00:00",
          "2023-01-05T00:00:00",
          "2023-01-06T00:00:00",
          "2023-01-07T00:00:00",
          "2023-01-08T00:00:00",
          "2023-01-09T00:00:00",
          "2023-01-10T00:00:00",
          "2023-01-11T00:00:00",
          "2023-01-12T00:00:00",
          "2023-01-13T00:00:00",
          "2023-01-14T00:00:00",
          "2023-01-15T00:00:00",
          "2023-01-16T00:00:00",
          "2023-01-17T00:00:00",
          "2023-01-18T00:00:00",
          "2023-01-19T00:00:00",
          "2023-01-20T00:00:00",
          "2023-01-21T00:00:00",
          "2023-01-22T00:00:00",
          "2023-01-23T00:00:00",
          "2023-01-24T00:00:00",
          "2023-01-25T00:00:00",
          "2023-01-26T00:00:00",
          "2023-01-27T00:00:00",
          "2023-01-28T00:00:00",
          "2023-01-29T00:00:00",
          "2023-01-30T00:00:00",
          "2023-01-31T00:00:00",
          "2023-02-01T00:00:00",
          "2023-02-02T00:00:00",
          "2023-02-03T00:00:00",
          "2023-02-04T00:00:00",
          "2023-02-05T00:00:00",
          "2023-02-06T00:00:00",
          "2023-02-07T00:00:00",
          "2023-02-08T00:00:00",
          "2023-02-09T00:00:00",
          "2023-02-10T00:00:00",
          "2023-02-11T00:00:00",
          "2023-02-12T00:00:00",
          "2023-02-13T00:00:00",
          "2023-02-14T00:00:00",
          "2023-02-15T00:00:00",
          "2023-02-16T00:00:00",
          "2023-02-17T00:00:00",
          "2023-02-18T00:00:00",
          "2023-02-19T00:00:00",
          "2023-02-20T00:00:00",
          "2023-02-21T00:00:00",
          "2023-02-22T00:00:00",
          "2023-02-23T00:00:00",
          "2023-02-24T00:00:00",
          "2023-02-25T00:00:00",
          "2023-02-26T00:00:00",
          "2023-02-27T00:00:00",
          "2023-02-28T00:00:00",
          "2023-03-01T00:00:00",
          "2023-03-02T00:00:00",
          "2023-03-03T00:00:00",
          "2023-03-04T00:00:00",
          "2023-03-05T00:00:00",
          "2023-03-06T00:00:00",
          "2023-03-07T00:00:00",
          "2023-03-08T00:00:00",
          "2023-03-09T00:00:00",
          "2023-03-10T00:00:00",
          "2023-03-11T00:00:00",
          "2023-03-12T00:00:00",
          "2023-03-13T00:00:00",
          "2023-03-14T00:00:00",
          "2023-03-15T00:00:00",
          "2023-03-16T00:00:00",
          "2023-03-17T00:00:00",
          "2023-03-18T00:00:00",
          "2023-03-19T00:00:00",
          "2023-03-20T00:00:00",
          "2023-03-21T00:00:00",
          "2023-03-22T00:00:00",
          "2023-03-23T00:00:00",
          "2023-03-24T00:00:00",
          "2023-03-25T00:00:00",
          "2023-03-26T00:00:00",
          "2023-03-27T00:00:00",
          "2023-03-28T00:00:00",
          "2023-03-29T00:00:00",
          "2023-03-30T00:00:00",
          "2023-03-31T00:00:00",
          "2023-04-01T00:00:00",
          "2023-04-02T00:00:00",
          "2023-04-03T00:00:00",
          "2023-04-04T00:00:00",
          "2023-04-05T00:00:00",
          "2023-04-06T00:00:00",
          "2023-04-07T00:00:00",
          "2023-04-08T00:00:00",
          "2023-04-09T00:00:00",
          "2023-04-10T00:00:00",
          "2023-04-11T00:00:00",
          "2023-04-12T00:00:00",
          "2023-04-13T00:00:00",
          "2023-04-14T00:00:00",
          "2023-04-15T00:00:00",
          "2023-04-16T00:00:00",
          "2023-04-17T00:00:00",
          "2023-04-18T00:00:00",
          "2023-04-19T00:00:00",
          "2023-04-20T00:00:00",
          "2023-04-21T00:00:00",
          "2023-04-22T00:00:00",
          "2023-04-23T00:00:00",
          "2023-04-24T00:00:00",
          "2023-04-25T00:00:00",
          "2023-04-26T00:00:00",
          "2023-04-27T00:00:00",
          "2023-04-28T00:00:00",
          "2023-04-29T00:00:00",
          "2023-04-30T00:00:00",
          "2023-05-01T00:00:00",
          "2023-05-02T00:00:00",
          "2023-05-03T00:00:00",
          "2023-05-04T00:00:00",
          "2023-05-05T00:00:00",
          "2023-05-06T00:00:00",
          "2023-05-07T00:00:00",
          "2023-05-08T00:00:00",
          "2023-05-09T00:00:00",
          "2023-05-10T00:00:00",
          "2023-05-11T00:00:00",
          "2023-05-12T00:00:00",
          "2023-05-13T00:00:00",
          "2023-05-14T00:00:00",
          "2023-05-15T00:00:00",
          "2023-05-16T00:00:00",
          "2023-05-17T00:00:00",
          "2023-05-18T00:00:00",
          "2023-05-19T00:00:00",
          "2023-05-20T00:00:00",
          "2023-05-21T00:00:00",
          "2023-05-22T00:00:00",
          "2023-05-23T00:00:00",
          "2023-05-24T00:00:00",
          "2023-05-25T00:00:00",
          "2023-05-26T00:00:00",
          "2023-05-27T00:00:00",
          "2023-05-28T00:00:00",
          "2023-05-29T00:00:00",
          "2023-05-30T00:00:00",
          "2023-05-31T00:00:00",
          "2023-06-01T00:00:00",
          "2023-06-02T00:00:00",
          "2023-06-03T00:00:00",
          "2023-06-04T00:00:00",
          "2023-06-05T00:00:00",
          "2023-06-06T00:00:00",
          "2023-06-07T00:00:00",
          "2023-06-08T00:00:00",
          "2023-06-09T00:00:00",
          "2023-06-10T00:00:00",
          "2023-06-11T00:00:00",
          "2023-06-12T00:00:00",
          "2023-06-13T00:00:00",
          "2023-06-14T00:00:00",
          "2023-06-15T00:00:00",
          "2023-06-16T00:00:00",
          "2023-06-17T00:00:00",
          "2023-06-18T00:00:00",
          "2023-06-19T00:00:00",
          "2023-06-20T00:00:00",
          "2023-06-21T00:00:00",
          "2023-06-22T00:00:00",
          "2023-06-23T00:00:00",
          "2023-06-24T00:00:00",
          "2023-06-25T00:00:00",
          "2023-06-26T00:00:00",
          "2023-06-27T00:00:00",
          "2023-06-28T00:00:00",
          "2023-06-29T00:00:00",
          "2023-06-30T00:00:00",
          "2023-07-01T00:00:00",
          "2023-07-02T00:00:00",
          "2023-07-03T00:00:00",
          "2023-07-04T00:00:00",
          "2023-07-05T00:00:00",
          "2023-07-06T00:00:00",
          "2023-07-07T00:00:00",
          "2023-07-08T00:00:00",
          "2023-07-09T00:00:00",
          "2023-07-10T00:00:00",
          "2023-07-11T00:00:00",
          "2023-07-12T00:00:00",
          "2023-07-13T00:00:00",
          "2023-07-14T00:00:00",
          "2023-07-15T00:00:00",
          "2023-07-16T00:00:00",
          "2023-07-17T00:00:00",
          "2023-07-18T00:00:00",
          "2023-07-19T00:00:00",
          "2023-07-20T00:00:00",
          "2023-07-21T00:00:00",
          "2023-07-22T00:00:00",
          "2023-07-23T00:00:00",
          "2023-07-24T00:00:00",
          "2023-07-25T00:00:00",
          "2023-07-26T00:00:00",
          "2023-07-27T00:00:00",
          "2023-07-28T00:00:00",
          "2023-07-29T00:00:00",
          "2023-07-30T00:00:00",
          "2023-07-31T00:00:00",
          "2023-08-01T00:00:00",
          "2023-08-02T00:00:00",
          "2023-08-03T00:00:00",
          "2023-08-04T00:00:00",
          "2023-08-05T00:00:00",
          "2023-08-06T00:00:00",
          "2023-08-07T00:00:00",
          "2023-08-08T00:00:00",
          "2023-08-09T00:00:00",
          "2023-08-10T00:00:00",
          "2023-08-11T00:00:00",
          "2023-08-12T00:00:00",
          "2023-08-13T00:00:00",
          "2023-08-14T00:00:00",
          "2023-08-15T00:00:00",
          "2023-08-16T00:00:00",
          "2023-08-17T00:00:00",
          "2023-08-18T00:00:00",
          "2023-08-19T00:00:00",
          "2023-08-20T00:00:00",
          "2023-08-21T00:00:00",
          "2023-08-22T00:00:00",
          "2023-08-23T00:00:00",
          "2023-08-24T00:00:00",
          "2023-08-25T00:00:00",
          "2023-08-26T00:00:00",
          "2023-08-27T00:00:00",
          "2023-08-28T00:00:00",
          "2023-08-29T00:00:00",
          "2023-08-30T00:00:00",
          "2023-08-31T00:00:00",
          "2023-09-01T00:00:00",
          "2023-09-02T00:00:00",
          "2023-09-03T00:00:00",
          "2023-09-04T00:00:00",
          "2023-09-05T00:00:00",
          "2023-09-06T00:00:00",
          "2023-09-07T00:00:00",
          "2023-09-08T00:00:00",
          "2023-09-09T00:00:00",
          "2023-09-10T00:00:00",
          "2023-09-11T00:00:00",
          "2023-09-12T00:00:00",
          "2023-09-13T00:00:00",
          "2023-09-14T00:00:00",
          "2023-09-15T00:00:00",
          "2023-09-16T00:00:00",
          "2023-09-17T00:00:00",
          "2023-09-18T00:00:00",
          "2023-09-19T00:00:00",
          "2023-09-20T00:00:00",
          "2023-09-21T00:00:00",
          "2023-09-22T00:00:00",
          "2023-09-23T00:00:00",
          "2023-09-24T00:00:00",
          "2023-09-25T00:00:00",
          "2023-09-26T00:00:00",
          "2023-09-27T00:00:00",
          "2023-09-28T00:00:00",
          "2023-09-29T00:00:00",
          "2023-09-30T00:00:00",
          "2023-10-01T00:00:00",
          "2023-10-02T00:00:00",
          "2023-10-03T00:00:00",
          "2023-10-04T00:00:00",
          "2023-10-05T00:00:00",
          "2023-10-06T00:00:00",
          "2023-10-07T00:00:00",
          "2023-10-08T00:00:00",
          "2023-10-09T00:00:00",
          "2023-10-10T00:00:00",
          "2023-10-11T00:00:00",
          "2023-10-12T00:00:00",
          "2023-10-13T00:00:00",
          "2023-10-14T00:00:00",
          "2023-10-15T00:00:00",
          "2023-10-16T00:00:00",
          "2023-10-17T00:00:00",
          "2023-10-18T00:00:00",
          "2023-10-19T00:00:00",
          "2023-10-20T00:00:00",
          "2023-10-21T00:00:00"
         ],
         "xaxis": "x",
         "y": [
          108,
          133,
          110,
          77,
          96,
          112,
          103,
          120,
          161,
          142,
          114,
          111,
          118,
          133,
          124,
          148,
          114,
          97,
          87,
          116,
          119,
          136,
          157,
          133,
          105,
          108,
          118,
          129,
          141,
          145,
          101,
          140,
          95,
          88,
          117,
          116,
          134,
          128,
          122,
          90,
          130,
          109,
          139,
          157,
          115,
          143,
          105,
          95,
          109,
          137,
          152,
          113,
          103,
          95,
          122,
          125,
          146,
          144,
          146,
          153,
          122,
          170,
          149,
          177,
          197,
          130,
          141,
          132,
          169,
          132,
          142,
          175,
          140,
          122,
          110,
          111,
          95,
          129,
          148,
          143,
          139,
          108,
          140,
          144,
          151,
          184,
          143,
          111,
          111,
          104,
          132,
          91,
          105,
          89,
          78,
          60,
          97,
          135,
          154,
          156,
          144,
          116,
          111,
          114,
          149,
          191,
          190,
          154,
          114,
          137,
          158,
          165,
          194,
          185,
          181,
          126,
          94,
          119,
          151,
          167,
          194,
          126,
          115,
          139,
          174,
          175,
          187,
          212,
          163,
          174,
          135,
          169,
          183,
          207,
          237,
          177,
          193,
          193,
          175,
          200,
          221,
          248,
          231,
          175,
          203,
          195,
          228,
          325,
          326,
          234,
          229,
          227,
          244,
          279,
          328,
          336,
          320,
          283,
          270,
          323,
          350,
          397,
          417,
          321,
          320,
          323,
          336,
          296,
          458,
          518,
          432,
          348,
          376,
          343,
          459,
          475,
          573,
          481,
          375,
          322,
          404,
          457,
          518,
          569,
          477,
          464,
          441,
          487,
          505,
          555,
          694,
          585,
          549,
          518,
          554,
          655,
          698,
          783,
          603,
          677,
          669,
          643,
          629,
          735,
          820,
          760,
          667,
          621,
          579,
          626,
          749,
          900,
          851,
          722,
          658,
          750,
          798,
          973,
          1125,
          1021,
          950,
          907,
          962,
          1079,
          1216,
          1292,
          1194,
          1089,
          993,
          1226,
          1273,
          1572,
          1468,
          1357,
          1316,
          1209,
          1334,
          1607,
          1729,
          2101,
          1787,
          1639,
          1710,
          2015,
          1963,
          2177,
          2660,
          2344,
          2037,
          1829,
          2073,
          2281,
          2725,
          2504,
          2033,
          1881,
          1648,
          2082,
          2215,
          2778,
          3233,
          2665,
          2603,
          2235,
          2524,
          2415,
          2850,
          3207,
          2470,
          2180,
          2309,
          2266,
          2404,
          3023,
          3003,
          2547,
          2292,
          2281,
          2367,
          2263,
          2681,
          3102,
          2791,
          2169,
          2093,
          1926,
          1826,
          2219,
          2192,
          1658,
          1332,
          559,
          143,
          7
         ],
         "yaxis": "y"
        }
       ],
       "layout": {
        "legend": {
         "tracegroupgap": 0
        },
        "template": {
         "data": {
          "bar": [
           {
            "error_x": {
             "color": "#2a3f5f"
            },
            "error_y": {
             "color": "#2a3f5f"
            },
            "marker": {
             "line": {
              "color": "#E5ECF6",
              "width": 0.5
             },
             "pattern": {
              "fillmode": "overlay",
              "size": 10,
              "solidity": 0.2
             }
            },
            "type": "bar"
           }
          ],
          "barpolar": [
           {
            "marker": {
             "line": {
              "color": "#E5ECF6",
              "width": 0.5
             },
             "pattern": {
              "fillmode": "overlay",
              "size": 10,
              "solidity": 0.2
             }
            },
            "type": "barpolar"
           }
          ],
          "carpet": [
           {
            "aaxis": {
             "endlinecolor": "#2a3f5f",
             "gridcolor": "white",
             "linecolor": "white",
             "minorgridcolor": "white",
             "startlinecolor": "#2a3f5f"
            },
            "baxis": {
             "endlinecolor": "#2a3f5f",
             "gridcolor": "white",
             "linecolor": "white",
             "minorgridcolor": "white",
             "startlinecolor": "#2a3f5f"
            },
            "type": "carpet"
           }
          ],
          "choropleth": [
           {
            "colorbar": {
             "outlinewidth": 0,
             "ticks": ""
            },
            "type": "choropleth"
           }
          ],
          "contour": [
           {
            "colorbar": {
             "outlinewidth": 0,
             "ticks": ""
            },
            "colorscale": [
             [
              0,
              "#0d0887"
             ],
             [
              0.1111111111111111,
              "#46039f"
             ],
             [
              0.2222222222222222,
              "#7201a8"
             ],
             [
              0.3333333333333333,
              "#9c179e"
             ],
             [
              0.4444444444444444,
              "#bd3786"
             ],
             [
              0.5555555555555556,
              "#d8576b"
             ],
             [
              0.6666666666666666,
              "#ed7953"
             ],
             [
              0.7777777777777778,
              "#fb9f3a"
             ],
             [
              0.8888888888888888,
              "#fdca26"
             ],
             [
              1,
              "#f0f921"
             ]
            ],
            "type": "contour"
           }
          ],
          "contourcarpet": [
           {
            "colorbar": {
             "outlinewidth": 0,
             "ticks": ""
            },
            "type": "contourcarpet"
           }
          ],
          "heatmap": [
           {
            "colorbar": {
             "outlinewidth": 0,
             "ticks": ""
            },
            "colorscale": [
             [
              0,
              "#0d0887"
             ],
             [
              0.1111111111111111,
              "#46039f"
             ],
             [
              0.2222222222222222,
              "#7201a8"
             ],
             [
              0.3333333333333333,
              "#9c179e"
             ],
             [
              0.4444444444444444,
              "#bd3786"
             ],
             [
              0.5555555555555556,
              "#d8576b"
             ],
             [
              0.6666666666666666,
              "#ed7953"
             ],
             [
              0.7777777777777778,
              "#fb9f3a"
             ],
             [
              0.8888888888888888,
              "#fdca26"
             ],
             [
              1,
              "#f0f921"
             ]
            ],
            "type": "heatmap"
           }
          ],
          "heatmapgl": [
           {
            "colorbar": {
             "outlinewidth": 0,
             "ticks": ""
            },
            "colorscale": [
             [
              0,
              "#0d0887"
             ],
             [
              0.1111111111111111,
              "#46039f"
             ],
             [
              0.2222222222222222,
              "#7201a8"
             ],
             [
              0.3333333333333333,
              "#9c179e"
             ],
             [
              0.4444444444444444,
              "#bd3786"
             ],
             [
              0.5555555555555556,
              "#d8576b"
             ],
             [
              0.6666666666666666,
              "#ed7953"
             ],
             [
              0.7777777777777778,
              "#fb9f3a"
             ],
             [
              0.8888888888888888,
              "#fdca26"
             ],
             [
              1,
              "#f0f921"
             ]
            ],
            "type": "heatmapgl"
           }
          ],
          "histogram": [
           {
            "marker": {
             "pattern": {
              "fillmode": "overlay",
              "size": 10,
              "solidity": 0.2
             }
            },
            "type": "histogram"
           }
          ],
          "histogram2d": [
           {
            "colorbar": {
             "outlinewidth": 0,
             "ticks": ""
            },
            "colorscale": [
             [
              0,
              "#0d0887"
             ],
             [
              0.1111111111111111,
              "#46039f"
             ],
             [
              0.2222222222222222,
              "#7201a8"
             ],
             [
              0.3333333333333333,
              "#9c179e"
             ],
             [
              0.4444444444444444,
              "#bd3786"
             ],
             [
              0.5555555555555556,
              "#d8576b"
             ],
             [
              0.6666666666666666,
              "#ed7953"
             ],
             [
              0.7777777777777778,
              "#fb9f3a"
             ],
             [
              0.8888888888888888,
              "#fdca26"
             ],
             [
              1,
              "#f0f921"
             ]
            ],
            "type": "histogram2d"
           }
          ],
          "histogram2dcontour": [
           {
            "colorbar": {
             "outlinewidth": 0,
             "ticks": ""
            },
            "colorscale": [
             [
              0,
              "#0d0887"
             ],
             [
              0.1111111111111111,
              "#46039f"
             ],
             [
              0.2222222222222222,
              "#7201a8"
             ],
             [
              0.3333333333333333,
              "#9c179e"
             ],
             [
              0.4444444444444444,
              "#bd3786"
             ],
             [
              0.5555555555555556,
              "#d8576b"
             ],
             [
              0.6666666666666666,
              "#ed7953"
             ],
             [
              0.7777777777777778,
              "#fb9f3a"
             ],
             [
              0.8888888888888888,
              "#fdca26"
             ],
             [
              1,
              "#f0f921"
             ]
            ],
            "type": "histogram2dcontour"
           }
          ],
          "mesh3d": [
           {
            "colorbar": {
             "outlinewidth": 0,
             "ticks": ""
            },
            "type": "mesh3d"
           }
          ],
          "parcoords": [
           {
            "line": {
             "colorbar": {
              "outlinewidth": 0,
              "ticks": ""
             }
            },
            "type": "parcoords"
           }
          ],
          "pie": [
           {
            "automargin": true,
            "type": "pie"
           }
          ],
          "scatter": [
           {
            "fillpattern": {
             "fillmode": "overlay",
             "size": 10,
             "solidity": 0.2
            },
            "type": "scatter"
           }
          ],
          "scatter3d": [
           {
            "line": {
             "colorbar": {
              "outlinewidth": 0,
              "ticks": ""
             }
            },
            "marker": {
             "colorbar": {
              "outlinewidth": 0,
              "ticks": ""
             }
            },
            "type": "scatter3d"
           }
          ],
          "scattercarpet": [
           {
            "marker": {
             "colorbar": {
              "outlinewidth": 0,
              "ticks": ""
             }
            },
            "type": "scattercarpet"
           }
          ],
          "scattergeo": [
           {
            "marker": {
             "colorbar": {
              "outlinewidth": 0,
              "ticks": ""
             }
            },
            "type": "scattergeo"
           }
          ],
          "scattergl": [
           {
            "marker": {
             "colorbar": {
              "outlinewidth": 0,
              "ticks": ""
             }
            },
            "type": "scattergl"
           }
          ],
          "scattermapbox": [
           {
            "marker": {
             "colorbar": {
              "outlinewidth": 0,
              "ticks": ""
             }
            },
            "type": "scattermapbox"
           }
          ],
          "scatterpolar": [
           {
            "marker": {
             "colorbar": {
              "outlinewidth": 0,
              "ticks": ""
             }
            },
            "type": "scatterpolar"
           }
          ],
          "scatterpolargl": [
           {
            "marker": {
             "colorbar": {
              "outlinewidth": 0,
              "ticks": ""
             }
            },
            "type": "scatterpolargl"
           }
          ],
          "scatterternary": [
           {
            "marker": {
             "colorbar": {
              "outlinewidth": 0,
              "ticks": ""
             }
            },
            "type": "scatterternary"
           }
          ],
          "surface": [
           {
            "colorbar": {
             "outlinewidth": 0,
             "ticks": ""
            },
            "colorscale": [
             [
              0,
              "#0d0887"
             ],
             [
              0.1111111111111111,
              "#46039f"
             ],
             [
              0.2222222222222222,
              "#7201a8"
             ],
             [
              0.3333333333333333,
              "#9c179e"
             ],
             [
              0.4444444444444444,
              "#bd3786"
             ],
             [
              0.5555555555555556,
              "#d8576b"
             ],
             [
              0.6666666666666666,
              "#ed7953"
             ],
             [
              0.7777777777777778,
              "#fb9f3a"
             ],
             [
              0.8888888888888888,
              "#fdca26"
             ],
             [
              1,
              "#f0f921"
             ]
            ],
            "type": "surface"
           }
          ],
          "table": [
           {
            "cells": {
             "fill": {
              "color": "#EBF0F8"
             },
             "line": {
              "color": "white"
             }
            },
            "header": {
             "fill": {
              "color": "#C8D4E3"
             },
             "line": {
              "color": "white"
             }
            },
            "type": "table"
           }
          ]
         },
         "layout": {
          "annotationdefaults": {
           "arrowcolor": "#2a3f5f",
           "arrowhead": 0,
           "arrowwidth": 1
          },
          "autotypenumbers": "strict",
          "coloraxis": {
           "colorbar": {
            "outlinewidth": 0,
            "ticks": ""
           }
          },
          "colorscale": {
           "diverging": [
            [
             0,
             "#8e0152"
            ],
            [
             0.1,
             "#c51b7d"
            ],
            [
             0.2,
             "#de77ae"
            ],
            [
             0.3,
             "#f1b6da"
            ],
            [
             0.4,
             "#fde0ef"
            ],
            [
             0.5,
             "#f7f7f7"
            ],
            [
             0.6,
             "#e6f5d0"
            ],
            [
             0.7,
             "#b8e186"
            ],
            [
             0.8,
             "#7fbc41"
            ],
            [
             0.9,
             "#4d9221"
            ],
            [
             1,
             "#276419"
            ]
           ],
           "sequential": [
            [
             0,
             "#0d0887"
            ],
            [
             0.1111111111111111,
             "#46039f"
            ],
            [
             0.2222222222222222,
             "#7201a8"
            ],
            [
             0.3333333333333333,
             "#9c179e"
            ],
            [
             0.4444444444444444,
             "#bd3786"
            ],
            [
             0.5555555555555556,
             "#d8576b"
            ],
            [
             0.6666666666666666,
             "#ed7953"
            ],
            [
             0.7777777777777778,
             "#fb9f3a"
            ],
            [
             0.8888888888888888,
             "#fdca26"
            ],
            [
             1,
             "#f0f921"
            ]
           ],
           "sequentialminus": [
            [
             0,
             "#0d0887"
            ],
            [
             0.1111111111111111,
             "#46039f"
            ],
            [
             0.2222222222222222,
             "#7201a8"
            ],
            [
             0.3333333333333333,
             "#9c179e"
            ],
            [
             0.4444444444444444,
             "#bd3786"
            ],
            [
             0.5555555555555556,
             "#d8576b"
            ],
            [
             0.6666666666666666,
             "#ed7953"
            ],
            [
             0.7777777777777778,
             "#fb9f3a"
            ],
            [
             0.8888888888888888,
             "#fdca26"
            ],
            [
             1,
             "#f0f921"
            ]
           ]
          },
          "colorway": [
           "#636efa",
           "#EF553B",
           "#00cc96",
           "#ab63fa",
           "#FFA15A",
           "#19d3f3",
           "#FF6692",
           "#B6E880",
           "#FF97FF",
           "#FECB52"
          ],
          "font": {
           "color": "#2a3f5f"
          },
          "geo": {
           "bgcolor": "white",
           "lakecolor": "white",
           "landcolor": "#E5ECF6",
           "showlakes": true,
           "showland": true,
           "subunitcolor": "white"
          },
          "hoverlabel": {
           "align": "left"
          },
          "hovermode": "closest",
          "mapbox": {
           "style": "light"
          },
          "paper_bgcolor": "white",
          "plot_bgcolor": "#E5ECF6",
          "polar": {
           "angularaxis": {
            "gridcolor": "white",
            "linecolor": "white",
            "ticks": ""
           },
           "bgcolor": "#E5ECF6",
           "radialaxis": {
            "gridcolor": "white",
            "linecolor": "white",
            "ticks": ""
           }
          },
          "scene": {
           "xaxis": {
            "backgroundcolor": "#E5ECF6",
            "gridcolor": "white",
            "gridwidth": 2,
            "linecolor": "white",
            "showbackground": true,
            "ticks": "",
            "zerolinecolor": "white"
           },
           "yaxis": {
            "backgroundcolor": "#E5ECF6",
            "gridcolor": "white",
            "gridwidth": 2,
            "linecolor": "white",
            "showbackground": true,
            "ticks": "",
            "zerolinecolor": "white"
           },
           "zaxis": {
            "backgroundcolor": "#E5ECF6",
            "gridcolor": "white",
            "gridwidth": 2,
            "linecolor": "white",
            "showbackground": true,
            "ticks": "",
            "zerolinecolor": "white"
           }
          },
          "shapedefaults": {
           "line": {
            "color": "#2a3f5f"
           }
          },
          "ternary": {
           "aaxis": {
            "gridcolor": "white",
            "linecolor": "white",
            "ticks": ""
           },
           "baxis": {
            "gridcolor": "white",
            "linecolor": "white",
            "ticks": ""
           },
           "bgcolor": "#E5ECF6",
           "caxis": {
            "gridcolor": "white",
            "linecolor": "white",
            "ticks": ""
           }
          },
          "title": {
           "x": 0.05
          },
          "xaxis": {
           "automargin": true,
           "gridcolor": "white",
           "linecolor": "white",
           "ticks": "",
           "title": {
            "standoff": 15
           },
           "zerolinecolor": "white",
           "zerolinewidth": 2
          },
          "yaxis": {
           "automargin": true,
           "gridcolor": "white",
           "linecolor": "white",
           "ticks": "",
           "title": {
            "standoff": 15
           },
           "zerolinecolor": "white",
           "zerolinewidth": 2
          }
         }
        },
        "title": {
         "text": "Casos de dengue por fecha de signos y síntomas"
        },
        "xaxis": {
         "anchor": "y",
         "domain": [
          0,
          1
         ],
         "title": {
          "text": "Fecha de signos y síntomas"
         }
        },
        "yaxis": {
         "anchor": "x",
         "domain": [
          0,
          1
         ],
         "title": {
          "text": "Casos"
         }
        }
       }
      }
     },
     "metadata": {},
     "output_type": "display_data"
    }
   ],
   "source": [
    "# Hacemos un análisis de los datos a través de gráficas \n",
    "casos_por_fecha = df.groupby('FECHA_SIGN_SINTOMAS').size().reset_index(name='CASOS')\n",
    "fig = px.line(casos_por_fecha, x='FECHA_SIGN_SINTOMAS', y='CASOS', title='Casos de dengue por fecha de signos y síntomas')\n",
    "fig.update_layout(xaxis_title='Fecha de signos y síntomas', yaxis_title='Casos')\n",
    "fig.show()"
   ]
  },
  {
   "cell_type": "markdown",
   "metadata": {},
   "source": [
    "Desarrollando un desgloze por estados, se observa que los estados más lluviosos y húmedos tienden a tener una mayor cantidad de casos de dengue. Esto se debe al ciclo de reproducción de los mosquitos, los cuales dejan sus huevos en agua estancada, además los lugaremos húmedos favorecen su supervivencia concordando con los resultados que se obtuvieron."
   ]
  },
  {
   "cell_type": "code",
   "execution_count": 16,
   "metadata": {},
   "outputs": [],
   "source": [
    "# Hacemos un mapeo de los casos por entidad\n",
    "casos_por_entidad = df.groupby('ENTIDAD_RES').size().reset_index(name='CASOS')\n",
    "entidad = pd.read_csv('data/ENTIDAD.csv')\n",
    "entidad = entidad[['CLAVE_ENTIDAD', 'ENTIDAD_FEDERATIVA']]\n",
    "casos_por_entidad = casos_por_entidad.merge(entidad, left_on = 'ENTIDAD_RES', right_on= 'CLAVE_ENTIDAD',how='left')"
   ]
  },
  {
   "cell_type": "code",
   "execution_count": 17,
   "metadata": {},
   "outputs": [
    {
     "data": {
      "application/vnd.plotly.v1+json": {
       "config": {
        "plotlyServerURL": "https://plot.ly"
       },
       "data": [
        {
         "alignmentgroup": "True",
         "hovertemplate": "ENTIDAD_FEDERATIVA=%{x}<br>Número de casos=%{marker.color}<extra></extra>",
         "legendgroup": "",
         "marker": {
          "color": [
           412,
           82,
           811,
           7566,
           507,
           2245,
           10351,
           17,
           318,
           62,
           1907,
           11594,
           1179,
           5696,
           1929,
           2770,
           22493,
           1351,
           1202,
           16750,
           7150,
           173,
           17850,
           2041,
           1110,
           539,
           8542,
           1347,
           22,
           31153,
           43544,
           16,
           7,
           13,
           13
          ],
          "coloraxis": "coloraxis",
          "pattern": {
           "shape": ""
          }
         },
         "name": "",
         "offsetgroup": "",
         "orientation": "v",
         "showlegend": false,
         "textposition": "auto",
         "type": "bar",
         "x": [
          "AGUASCALIENTES",
          "BAJA CALIFORNIA",
          "BAJA CALIFORNIA SUR",
          "CAMPECHE",
          "COAHUILA DE ZARAGOZA",
          "COLIMA",
          "CHIAPAS",
          "CHIHUAHUA",
          "CIUDAD DE MÉXICO",
          "DURANGO",
          "GUANAJUATO",
          "GUERRERO",
          "HIDALGO",
          "JALISCO",
          "MÉXICO",
          "MICHOACÁN DE OCAMPO",
          "MORELOS",
          "NAYARIT",
          "NUEVO LEÓN",
          "OAXACA",
          "PUEBLA",
          "QUERÉTARO",
          "QUINTANA ROO",
          "SAN LUIS POTOSÍ",
          "SINALOA",
          "SONORA",
          "TABASCO",
          "TAMAULIPAS",
          "TLAXCALA",
          "VERACRUZ DE IGNACIO DE LA LLAVE",
          "YUCATÁN",
          "ZACATECAS",
          "ESTADOS UNIDOS DE AMERICA",
          "OTROS PAISES DE LATINOAMERICA",
          "OTROS PAISES"
         ],
         "xaxis": "x",
         "y": [
          412,
          82,
          811,
          7566,
          507,
          2245,
          10351,
          17,
          318,
          62,
          1907,
          11594,
          1179,
          5696,
          1929,
          2770,
          22493,
          1351,
          1202,
          16750,
          7150,
          173,
          17850,
          2041,
          1110,
          539,
          8542,
          1347,
          22,
          31153,
          43544,
          16,
          7,
          13,
          13
         ],
         "yaxis": "y"
        }
       ],
       "layout": {
        "barmode": "relative",
        "coloraxis": {
         "colorbar": {
          "title": {
           "text": "Número de casos"
          }
         },
         "colorscale": [
          [
           0,
           "#0d0887"
          ],
          [
           0.1111111111111111,
           "#46039f"
          ],
          [
           0.2222222222222222,
           "#7201a8"
          ],
          [
           0.3333333333333333,
           "#9c179e"
          ],
          [
           0.4444444444444444,
           "#bd3786"
          ],
          [
           0.5555555555555556,
           "#d8576b"
          ],
          [
           0.6666666666666666,
           "#ed7953"
          ],
          [
           0.7777777777777778,
           "#fb9f3a"
          ],
          [
           0.8888888888888888,
           "#fdca26"
          ],
          [
           1,
           "#f0f921"
          ]
         ]
        },
        "legend": {
         "tracegroupgap": 0
        },
        "template": {
         "data": {
          "bar": [
           {
            "error_x": {
             "color": "#2a3f5f"
            },
            "error_y": {
             "color": "#2a3f5f"
            },
            "marker": {
             "line": {
              "color": "#E5ECF6",
              "width": 0.5
             },
             "pattern": {
              "fillmode": "overlay",
              "size": 10,
              "solidity": 0.2
             }
            },
            "type": "bar"
           }
          ],
          "barpolar": [
           {
            "marker": {
             "line": {
              "color": "#E5ECF6",
              "width": 0.5
             },
             "pattern": {
              "fillmode": "overlay",
              "size": 10,
              "solidity": 0.2
             }
            },
            "type": "barpolar"
           }
          ],
          "carpet": [
           {
            "aaxis": {
             "endlinecolor": "#2a3f5f",
             "gridcolor": "white",
             "linecolor": "white",
             "minorgridcolor": "white",
             "startlinecolor": "#2a3f5f"
            },
            "baxis": {
             "endlinecolor": "#2a3f5f",
             "gridcolor": "white",
             "linecolor": "white",
             "minorgridcolor": "white",
             "startlinecolor": "#2a3f5f"
            },
            "type": "carpet"
           }
          ],
          "choropleth": [
           {
            "colorbar": {
             "outlinewidth": 0,
             "ticks": ""
            },
            "type": "choropleth"
           }
          ],
          "contour": [
           {
            "colorbar": {
             "outlinewidth": 0,
             "ticks": ""
            },
            "colorscale": [
             [
              0,
              "#0d0887"
             ],
             [
              0.1111111111111111,
              "#46039f"
             ],
             [
              0.2222222222222222,
              "#7201a8"
             ],
             [
              0.3333333333333333,
              "#9c179e"
             ],
             [
              0.4444444444444444,
              "#bd3786"
             ],
             [
              0.5555555555555556,
              "#d8576b"
             ],
             [
              0.6666666666666666,
              "#ed7953"
             ],
             [
              0.7777777777777778,
              "#fb9f3a"
             ],
             [
              0.8888888888888888,
              "#fdca26"
             ],
             [
              1,
              "#f0f921"
             ]
            ],
            "type": "contour"
           }
          ],
          "contourcarpet": [
           {
            "colorbar": {
             "outlinewidth": 0,
             "ticks": ""
            },
            "type": "contourcarpet"
           }
          ],
          "heatmap": [
           {
            "colorbar": {
             "outlinewidth": 0,
             "ticks": ""
            },
            "colorscale": [
             [
              0,
              "#0d0887"
             ],
             [
              0.1111111111111111,
              "#46039f"
             ],
             [
              0.2222222222222222,
              "#7201a8"
             ],
             [
              0.3333333333333333,
              "#9c179e"
             ],
             [
              0.4444444444444444,
              "#bd3786"
             ],
             [
              0.5555555555555556,
              "#d8576b"
             ],
             [
              0.6666666666666666,
              "#ed7953"
             ],
             [
              0.7777777777777778,
              "#fb9f3a"
             ],
             [
              0.8888888888888888,
              "#fdca26"
             ],
             [
              1,
              "#f0f921"
             ]
            ],
            "type": "heatmap"
           }
          ],
          "heatmapgl": [
           {
            "colorbar": {
             "outlinewidth": 0,
             "ticks": ""
            },
            "colorscale": [
             [
              0,
              "#0d0887"
             ],
             [
              0.1111111111111111,
              "#46039f"
             ],
             [
              0.2222222222222222,
              "#7201a8"
             ],
             [
              0.3333333333333333,
              "#9c179e"
             ],
             [
              0.4444444444444444,
              "#bd3786"
             ],
             [
              0.5555555555555556,
              "#d8576b"
             ],
             [
              0.6666666666666666,
              "#ed7953"
             ],
             [
              0.7777777777777778,
              "#fb9f3a"
             ],
             [
              0.8888888888888888,
              "#fdca26"
             ],
             [
              1,
              "#f0f921"
             ]
            ],
            "type": "heatmapgl"
           }
          ],
          "histogram": [
           {
            "marker": {
             "pattern": {
              "fillmode": "overlay",
              "size": 10,
              "solidity": 0.2
             }
            },
            "type": "histogram"
           }
          ],
          "histogram2d": [
           {
            "colorbar": {
             "outlinewidth": 0,
             "ticks": ""
            },
            "colorscale": [
             [
              0,
              "#0d0887"
             ],
             [
              0.1111111111111111,
              "#46039f"
             ],
             [
              0.2222222222222222,
              "#7201a8"
             ],
             [
              0.3333333333333333,
              "#9c179e"
             ],
             [
              0.4444444444444444,
              "#bd3786"
             ],
             [
              0.5555555555555556,
              "#d8576b"
             ],
             [
              0.6666666666666666,
              "#ed7953"
             ],
             [
              0.7777777777777778,
              "#fb9f3a"
             ],
             [
              0.8888888888888888,
              "#fdca26"
             ],
             [
              1,
              "#f0f921"
             ]
            ],
            "type": "histogram2d"
           }
          ],
          "histogram2dcontour": [
           {
            "colorbar": {
             "outlinewidth": 0,
             "ticks": ""
            },
            "colorscale": [
             [
              0,
              "#0d0887"
             ],
             [
              0.1111111111111111,
              "#46039f"
             ],
             [
              0.2222222222222222,
              "#7201a8"
             ],
             [
              0.3333333333333333,
              "#9c179e"
             ],
             [
              0.4444444444444444,
              "#bd3786"
             ],
             [
              0.5555555555555556,
              "#d8576b"
             ],
             [
              0.6666666666666666,
              "#ed7953"
             ],
             [
              0.7777777777777778,
              "#fb9f3a"
             ],
             [
              0.8888888888888888,
              "#fdca26"
             ],
             [
              1,
              "#f0f921"
             ]
            ],
            "type": "histogram2dcontour"
           }
          ],
          "mesh3d": [
           {
            "colorbar": {
             "outlinewidth": 0,
             "ticks": ""
            },
            "type": "mesh3d"
           }
          ],
          "parcoords": [
           {
            "line": {
             "colorbar": {
              "outlinewidth": 0,
              "ticks": ""
             }
            },
            "type": "parcoords"
           }
          ],
          "pie": [
           {
            "automargin": true,
            "type": "pie"
           }
          ],
          "scatter": [
           {
            "fillpattern": {
             "fillmode": "overlay",
             "size": 10,
             "solidity": 0.2
            },
            "type": "scatter"
           }
          ],
          "scatter3d": [
           {
            "line": {
             "colorbar": {
              "outlinewidth": 0,
              "ticks": ""
             }
            },
            "marker": {
             "colorbar": {
              "outlinewidth": 0,
              "ticks": ""
             }
            },
            "type": "scatter3d"
           }
          ],
          "scattercarpet": [
           {
            "marker": {
             "colorbar": {
              "outlinewidth": 0,
              "ticks": ""
             }
            },
            "type": "scattercarpet"
           }
          ],
          "scattergeo": [
           {
            "marker": {
             "colorbar": {
              "outlinewidth": 0,
              "ticks": ""
             }
            },
            "type": "scattergeo"
           }
          ],
          "scattergl": [
           {
            "marker": {
             "colorbar": {
              "outlinewidth": 0,
              "ticks": ""
             }
            },
            "type": "scattergl"
           }
          ],
          "scattermapbox": [
           {
            "marker": {
             "colorbar": {
              "outlinewidth": 0,
              "ticks": ""
             }
            },
            "type": "scattermapbox"
           }
          ],
          "scatterpolar": [
           {
            "marker": {
             "colorbar": {
              "outlinewidth": 0,
              "ticks": ""
             }
            },
            "type": "scatterpolar"
           }
          ],
          "scatterpolargl": [
           {
            "marker": {
             "colorbar": {
              "outlinewidth": 0,
              "ticks": ""
             }
            },
            "type": "scatterpolargl"
           }
          ],
          "scatterternary": [
           {
            "marker": {
             "colorbar": {
              "outlinewidth": 0,
              "ticks": ""
             }
            },
            "type": "scatterternary"
           }
          ],
          "surface": [
           {
            "colorbar": {
             "outlinewidth": 0,
             "ticks": ""
            },
            "colorscale": [
             [
              0,
              "#0d0887"
             ],
             [
              0.1111111111111111,
              "#46039f"
             ],
             [
              0.2222222222222222,
              "#7201a8"
             ],
             [
              0.3333333333333333,
              "#9c179e"
             ],
             [
              0.4444444444444444,
              "#bd3786"
             ],
             [
              0.5555555555555556,
              "#d8576b"
             ],
             [
              0.6666666666666666,
              "#ed7953"
             ],
             [
              0.7777777777777778,
              "#fb9f3a"
             ],
             [
              0.8888888888888888,
              "#fdca26"
             ],
             [
              1,
              "#f0f921"
             ]
            ],
            "type": "surface"
           }
          ],
          "table": [
           {
            "cells": {
             "fill": {
              "color": "#EBF0F8"
             },
             "line": {
              "color": "white"
             }
            },
            "header": {
             "fill": {
              "color": "#C8D4E3"
             },
             "line": {
              "color": "white"
             }
            },
            "type": "table"
           }
          ]
         },
         "layout": {
          "annotationdefaults": {
           "arrowcolor": "#2a3f5f",
           "arrowhead": 0,
           "arrowwidth": 1
          },
          "autotypenumbers": "strict",
          "coloraxis": {
           "colorbar": {
            "outlinewidth": 0,
            "ticks": ""
           }
          },
          "colorscale": {
           "diverging": [
            [
             0,
             "#8e0152"
            ],
            [
             0.1,
             "#c51b7d"
            ],
            [
             0.2,
             "#de77ae"
            ],
            [
             0.3,
             "#f1b6da"
            ],
            [
             0.4,
             "#fde0ef"
            ],
            [
             0.5,
             "#f7f7f7"
            ],
            [
             0.6,
             "#e6f5d0"
            ],
            [
             0.7,
             "#b8e186"
            ],
            [
             0.8,
             "#7fbc41"
            ],
            [
             0.9,
             "#4d9221"
            ],
            [
             1,
             "#276419"
            ]
           ],
           "sequential": [
            [
             0,
             "#0d0887"
            ],
            [
             0.1111111111111111,
             "#46039f"
            ],
            [
             0.2222222222222222,
             "#7201a8"
            ],
            [
             0.3333333333333333,
             "#9c179e"
            ],
            [
             0.4444444444444444,
             "#bd3786"
            ],
            [
             0.5555555555555556,
             "#d8576b"
            ],
            [
             0.6666666666666666,
             "#ed7953"
            ],
            [
             0.7777777777777778,
             "#fb9f3a"
            ],
            [
             0.8888888888888888,
             "#fdca26"
            ],
            [
             1,
             "#f0f921"
            ]
           ],
           "sequentialminus": [
            [
             0,
             "#0d0887"
            ],
            [
             0.1111111111111111,
             "#46039f"
            ],
            [
             0.2222222222222222,
             "#7201a8"
            ],
            [
             0.3333333333333333,
             "#9c179e"
            ],
            [
             0.4444444444444444,
             "#bd3786"
            ],
            [
             0.5555555555555556,
             "#d8576b"
            ],
            [
             0.6666666666666666,
             "#ed7953"
            ],
            [
             0.7777777777777778,
             "#fb9f3a"
            ],
            [
             0.8888888888888888,
             "#fdca26"
            ],
            [
             1,
             "#f0f921"
            ]
           ]
          },
          "colorway": [
           "#636efa",
           "#EF553B",
           "#00cc96",
           "#ab63fa",
           "#FFA15A",
           "#19d3f3",
           "#FF6692",
           "#B6E880",
           "#FF97FF",
           "#FECB52"
          ],
          "font": {
           "color": "#2a3f5f"
          },
          "geo": {
           "bgcolor": "white",
           "lakecolor": "white",
           "landcolor": "#E5ECF6",
           "showlakes": true,
           "showland": true,
           "subunitcolor": "white"
          },
          "hoverlabel": {
           "align": "left"
          },
          "hovermode": "closest",
          "mapbox": {
           "style": "light"
          },
          "paper_bgcolor": "white",
          "plot_bgcolor": "#E5ECF6",
          "polar": {
           "angularaxis": {
            "gridcolor": "white",
            "linecolor": "white",
            "ticks": ""
           },
           "bgcolor": "#E5ECF6",
           "radialaxis": {
            "gridcolor": "white",
            "linecolor": "white",
            "ticks": ""
           }
          },
          "scene": {
           "xaxis": {
            "backgroundcolor": "#E5ECF6",
            "gridcolor": "white",
            "gridwidth": 2,
            "linecolor": "white",
            "showbackground": true,
            "ticks": "",
            "zerolinecolor": "white"
           },
           "yaxis": {
            "backgroundcolor": "#E5ECF6",
            "gridcolor": "white",
            "gridwidth": 2,
            "linecolor": "white",
            "showbackground": true,
            "ticks": "",
            "zerolinecolor": "white"
           },
           "zaxis": {
            "backgroundcolor": "#E5ECF6",
            "gridcolor": "white",
            "gridwidth": 2,
            "linecolor": "white",
            "showbackground": true,
            "ticks": "",
            "zerolinecolor": "white"
           }
          },
          "shapedefaults": {
           "line": {
            "color": "#2a3f5f"
           }
          },
          "ternary": {
           "aaxis": {
            "gridcolor": "white",
            "linecolor": "white",
            "ticks": ""
           },
           "baxis": {
            "gridcolor": "white",
            "linecolor": "white",
            "ticks": ""
           },
           "bgcolor": "#E5ECF6",
           "caxis": {
            "gridcolor": "white",
            "linecolor": "white",
            "ticks": ""
           }
          },
          "title": {
           "x": 0.05
          },
          "xaxis": {
           "automargin": true,
           "gridcolor": "white",
           "linecolor": "white",
           "ticks": "",
           "title": {
            "standoff": 15
           },
           "zerolinecolor": "white",
           "zerolinewidth": 2
          },
          "yaxis": {
           "automargin": true,
           "gridcolor": "white",
           "linecolor": "white",
           "ticks": "",
           "title": {
            "standoff": 15
           },
           "zerolinecolor": "white",
           "zerolinewidth": 2
          }
         }
        },
        "title": {
         "text": "Casos de dengue por entidad de residencia"
        },
        "xaxis": {
         "anchor": "y",
         "categoryarray": [
          "YUCATÁN",
          "VERACRUZ DE IGNACIO DE LA LLAVE",
          "MORELOS",
          "QUINTANA ROO",
          "OAXACA",
          "GUERRERO",
          "CHIAPAS",
          "TABASCO",
          "CAMPECHE",
          "PUEBLA",
          "JALISCO",
          "MICHOACÁN DE OCAMPO",
          "COLIMA",
          "SAN LUIS POTOSÍ",
          "MÉXICO",
          "GUANAJUATO",
          "NAYARIT",
          "TAMAULIPAS",
          "NUEVO LEÓN",
          "HIDALGO",
          "SINALOA",
          "BAJA CALIFORNIA SUR",
          "SONORA",
          "COAHUILA DE ZARAGOZA",
          "AGUASCALIENTES",
          "CIUDAD DE MÉXICO",
          "QUERÉTARO",
          "BAJA CALIFORNIA",
          "DURANGO",
          "TLAXCALA",
          "CHIHUAHUA",
          "ZACATECAS",
          "OTROS PAISES DE LATINOAMERICA",
          "OTROS PAISES",
          "ESTADOS UNIDOS DE AMERICA"
         ],
         "categoryorder": "array",
         "domain": [
          0,
          1
         ],
         "title": {
          "text": "Entidad de residencia"
         }
        },
        "yaxis": {
         "anchor": "x",
         "domain": [
          0,
          1
         ],
         "title": {
          "text": "Casos"
         }
        }
       }
      }
     },
     "metadata": {},
     "output_type": "display_data"
    }
   ],
   "source": [
    "fig = px.bar(casos_por_entidad, x='ENTIDAD_FEDERATIVA', y='CASOS', title='Casos de dengue por entidad de residencia',\n",
    "             category_orders={\"ENTIDAD_FEDERATIVA\": casos_por_entidad.sort_values(by='CASOS', ascending=False)['ENTIDAD_FEDERATIVA']},\n",
    "             color='CASOS', labels={'CASOS': 'Número de casos'})\n",
    "fig.update_layout(xaxis_title='Entidad de residencia', yaxis_title='Casos')\n",
    "fig.show()"
   ]
  },
  {
   "cell_type": "markdown",
   "metadata": {},
   "source": [
    "Centrándonos en el estado con mayor número de casos, siendo este Yucatán con más de 10 mil casos con respecto al siguiente estado. Encontamos que en la capital, Mérida, se concentran casi todos los casos, teniendo aproximadamente 5 veces más casos que cualquiera de los otros municipios."
   ]
  },
  {
   "cell_type": "code",
   "execution_count": 22,
   "metadata": {},
   "outputs": [],
   "source": [
    "casos_por_municipio_YN = df[df['ENTIDAD_RES'] == 31].groupby('MUNICIPIO_RES').size().reset_index(name='CASOS')\n",
    "municipio_YN = pd.read_csv('data/MUNICIPIO.csv')\n",
    "municipio_YN = municipio_YN[municipio_YN['CLAVE_ENTIDAD'] == '31']\n",
    "municipio_YN = municipio_YN[['CLAVE_MUNICIPIO', 'MUNICIPIO']]\n",
    "casos_por_municipio_YN = casos_por_municipio_YN.merge(municipio_YN, left_on = 'MUNICIPIO_RES', right_on= 'CLAVE_MUNICIPIO',how='left')"
   ]
  },
  {
   "cell_type": "code",
   "execution_count": 23,
   "metadata": {},
   "outputs": [
    {
     "data": {
      "application/vnd.plotly.v1+json": {
       "config": {
        "plotlyServerURL": "https://plot.ly"
       },
       "data": [
        {
         "alignmentgroup": "True",
         "hovertemplate": "MUNICIPIO=%{x}<br>Número de casos=%{marker.color}<extra></extra>",
         "legendgroup": "",
         "marker": {
          "color": [
           15,
           83,
           111,
           39,
           32,
           449,
           91,
           28,
           27,
           12,
           388,
           6,
           88,
           83,
           43,
           88,
           60,
           52,
           644,
           58,
           192,
           101,
           53,
           59,
           106,
           73,
           26,
           8,
           54,
           45,
           8,
           300,
           237,
           39,
           13,
           32,
           19,
           228,
           23,
           93,
           3044,
           50,
           20,
           93,
           32,
           20,
           179,
           284,
           46,
           20942,
           13,
           657,
           103,
           77,
           99,
           784,
           84,
           824,
           552,
           1,
           12,
           104,
           45,
           22,
           43,
           80,
           31,
           21,
           29,
           52,
           10,
           21,
           27,
           4,
           74,
           136,
           10,
           40,
           1789,
           25,
           22,
           23,
           6,
           32,
           128,
           7,
           37,
           42,
           1160,
           33,
           486,
           101,
           107,
           114,
           18,
           2440,
           68,
           492,
           83,
           44,
           1665,
           1703,
           5,
           100,
           23,
           20
          ],
          "coloraxis": "coloraxis",
          "pattern": {
           "shape": ""
          }
         },
         "name": "",
         "offsetgroup": "",
         "orientation": "v",
         "showlegend": false,
         "textposition": "auto",
         "type": "bar",
         "x": [
          "ABALÁ",
          "ACANCEH",
          "AKIL",
          "BACA",
          "BOKOBÁ",
          "BUCTZOTZ",
          "CACALCHÉN",
          "CALOTMUL",
          "CANSAHCAB",
          "CANTAMAYEC",
          "CELESTÚN",
          "CENOTILLO",
          "CONKAL",
          "CUNCUNUL",
          "CUZAMÁ",
          "CHACSINKÍN",
          "CHANKOM",
          "CHAPAB",
          "CHEMAX",
          "CHICXULUB PUEBLO",
          "CHICHIMILÁ",
          "CHIKINDZONOT",
          "CHOCHOLÁ",
          "CHUMAYEL",
          "DZÁN",
          "DZEMUL",
          "DZIDZANTÚN",
          "DZILAM DE BRAVO",
          "DZILAM GONZÁLEZ",
          "DZITÁS",
          "DZONCAUICH",
          "ESPITA",
          "HALACHÓ",
          "HOCABÁ",
          "HOCTÚN",
          "HOMÚN",
          "HUHÍ",
          "HUNUCMÁ",
          "IXIL",
          "IZAMAL",
          "KANASÍN",
          "KANTUNIL",
          "KAUA",
          "KINCHIL",
          "KOPOMÁ",
          "MAMA",
          "MANÍ",
          "MAXCANÚ",
          "MAYAPÁN",
          "MÉRIDA",
          "MOCOCHÁ",
          "MOTUL",
          "MUNA",
          "MUXUPIP",
          "OPICHÉN",
          "OXKUTZCAB",
          "PANABÁ",
          "PETO",
          "PROGRESO",
          "QUINTANA ROO",
          "RÍO LAGARTOS",
          "SACALUM",
          "SAMAHIL",
          "SANAHCAT",
          "SAN FELIPE",
          "SANTA ELENA",
          "SEYÉ",
          "SINANCHÉ",
          "SOTUTA",
          "SUCILÁ",
          "SUDZAL",
          "SUMA",
          "TAHDZIÚ",
          "TAHMEK",
          "TEABO",
          "TECOH",
          "TEKAL DE VENEGAS",
          "TEKANTÓ",
          "TEKAX",
          "TEKIT",
          "TEKOM",
          "TELCHAC PUEBLO",
          "TELCHAC PUERTO",
          "TEMAX",
          "TEMOZÓN",
          "TEPAKÁN",
          "TETIZ",
          "TEYA",
          "TICUL",
          "TIMUCUY",
          "TINUM",
          "TIXCACALCUPUL",
          "TIXKOKOB",
          "TIXMEHUAC",
          "TIXPÉHUAL",
          "TIZIMÍN",
          "TUNKÁS",
          "TZUCACAB",
          "UAYMA",
          "UCÚ",
          "UMÁN",
          "VALLADOLID",
          "XOCCHEL",
          "YAXCABÁ",
          "YAXKUKUL",
          "YOBAÍN"
         ],
         "xaxis": "x",
         "y": [
          15,
          83,
          111,
          39,
          32,
          449,
          91,
          28,
          27,
          12,
          388,
          6,
          88,
          83,
          43,
          88,
          60,
          52,
          644,
          58,
          192,
          101,
          53,
          59,
          106,
          73,
          26,
          8,
          54,
          45,
          8,
          300,
          237,
          39,
          13,
          32,
          19,
          228,
          23,
          93,
          3044,
          50,
          20,
          93,
          32,
          20,
          179,
          284,
          46,
          20942,
          13,
          657,
          103,
          77,
          99,
          784,
          84,
          824,
          552,
          1,
          12,
          104,
          45,
          22,
          43,
          80,
          31,
          21,
          29,
          52,
          10,
          21,
          27,
          4,
          74,
          136,
          10,
          40,
          1789,
          25,
          22,
          23,
          6,
          32,
          128,
          7,
          37,
          42,
          1160,
          33,
          486,
          101,
          107,
          114,
          18,
          2440,
          68,
          492,
          83,
          44,
          1665,
          1703,
          5,
          100,
          23,
          20
         ],
         "yaxis": "y"
        }
       ],
       "layout": {
        "barmode": "relative",
        "coloraxis": {
         "colorbar": {
          "title": {
           "text": "Número de casos"
          }
         },
         "colorscale": [
          [
           0,
           "#0d0887"
          ],
          [
           0.1111111111111111,
           "#46039f"
          ],
          [
           0.2222222222222222,
           "#7201a8"
          ],
          [
           0.3333333333333333,
           "#9c179e"
          ],
          [
           0.4444444444444444,
           "#bd3786"
          ],
          [
           0.5555555555555556,
           "#d8576b"
          ],
          [
           0.6666666666666666,
           "#ed7953"
          ],
          [
           0.7777777777777778,
           "#fb9f3a"
          ],
          [
           0.8888888888888888,
           "#fdca26"
          ],
          [
           1,
           "#f0f921"
          ]
         ]
        },
        "legend": {
         "tracegroupgap": 0
        },
        "template": {
         "data": {
          "bar": [
           {
            "error_x": {
             "color": "#2a3f5f"
            },
            "error_y": {
             "color": "#2a3f5f"
            },
            "marker": {
             "line": {
              "color": "#E5ECF6",
              "width": 0.5
             },
             "pattern": {
              "fillmode": "overlay",
              "size": 10,
              "solidity": 0.2
             }
            },
            "type": "bar"
           }
          ],
          "barpolar": [
           {
            "marker": {
             "line": {
              "color": "#E5ECF6",
              "width": 0.5
             },
             "pattern": {
              "fillmode": "overlay",
              "size": 10,
              "solidity": 0.2
             }
            },
            "type": "barpolar"
           }
          ],
          "carpet": [
           {
            "aaxis": {
             "endlinecolor": "#2a3f5f",
             "gridcolor": "white",
             "linecolor": "white",
             "minorgridcolor": "white",
             "startlinecolor": "#2a3f5f"
            },
            "baxis": {
             "endlinecolor": "#2a3f5f",
             "gridcolor": "white",
             "linecolor": "white",
             "minorgridcolor": "white",
             "startlinecolor": "#2a3f5f"
            },
            "type": "carpet"
           }
          ],
          "choropleth": [
           {
            "colorbar": {
             "outlinewidth": 0,
             "ticks": ""
            },
            "type": "choropleth"
           }
          ],
          "contour": [
           {
            "colorbar": {
             "outlinewidth": 0,
             "ticks": ""
            },
            "colorscale": [
             [
              0,
              "#0d0887"
             ],
             [
              0.1111111111111111,
              "#46039f"
             ],
             [
              0.2222222222222222,
              "#7201a8"
             ],
             [
              0.3333333333333333,
              "#9c179e"
             ],
             [
              0.4444444444444444,
              "#bd3786"
             ],
             [
              0.5555555555555556,
              "#d8576b"
             ],
             [
              0.6666666666666666,
              "#ed7953"
             ],
             [
              0.7777777777777778,
              "#fb9f3a"
             ],
             [
              0.8888888888888888,
              "#fdca26"
             ],
             [
              1,
              "#f0f921"
             ]
            ],
            "type": "contour"
           }
          ],
          "contourcarpet": [
           {
            "colorbar": {
             "outlinewidth": 0,
             "ticks": ""
            },
            "type": "contourcarpet"
           }
          ],
          "heatmap": [
           {
            "colorbar": {
             "outlinewidth": 0,
             "ticks": ""
            },
            "colorscale": [
             [
              0,
              "#0d0887"
             ],
             [
              0.1111111111111111,
              "#46039f"
             ],
             [
              0.2222222222222222,
              "#7201a8"
             ],
             [
              0.3333333333333333,
              "#9c179e"
             ],
             [
              0.4444444444444444,
              "#bd3786"
             ],
             [
              0.5555555555555556,
              "#d8576b"
             ],
             [
              0.6666666666666666,
              "#ed7953"
             ],
             [
              0.7777777777777778,
              "#fb9f3a"
             ],
             [
              0.8888888888888888,
              "#fdca26"
             ],
             [
              1,
              "#f0f921"
             ]
            ],
            "type": "heatmap"
           }
          ],
          "heatmapgl": [
           {
            "colorbar": {
             "outlinewidth": 0,
             "ticks": ""
            },
            "colorscale": [
             [
              0,
              "#0d0887"
             ],
             [
              0.1111111111111111,
              "#46039f"
             ],
             [
              0.2222222222222222,
              "#7201a8"
             ],
             [
              0.3333333333333333,
              "#9c179e"
             ],
             [
              0.4444444444444444,
              "#bd3786"
             ],
             [
              0.5555555555555556,
              "#d8576b"
             ],
             [
              0.6666666666666666,
              "#ed7953"
             ],
             [
              0.7777777777777778,
              "#fb9f3a"
             ],
             [
              0.8888888888888888,
              "#fdca26"
             ],
             [
              1,
              "#f0f921"
             ]
            ],
            "type": "heatmapgl"
           }
          ],
          "histogram": [
           {
            "marker": {
             "pattern": {
              "fillmode": "overlay",
              "size": 10,
              "solidity": 0.2
             }
            },
            "type": "histogram"
           }
          ],
          "histogram2d": [
           {
            "colorbar": {
             "outlinewidth": 0,
             "ticks": ""
            },
            "colorscale": [
             [
              0,
              "#0d0887"
             ],
             [
              0.1111111111111111,
              "#46039f"
             ],
             [
              0.2222222222222222,
              "#7201a8"
             ],
             [
              0.3333333333333333,
              "#9c179e"
             ],
             [
              0.4444444444444444,
              "#bd3786"
             ],
             [
              0.5555555555555556,
              "#d8576b"
             ],
             [
              0.6666666666666666,
              "#ed7953"
             ],
             [
              0.7777777777777778,
              "#fb9f3a"
             ],
             [
              0.8888888888888888,
              "#fdca26"
             ],
             [
              1,
              "#f0f921"
             ]
            ],
            "type": "histogram2d"
           }
          ],
          "histogram2dcontour": [
           {
            "colorbar": {
             "outlinewidth": 0,
             "ticks": ""
            },
            "colorscale": [
             [
              0,
              "#0d0887"
             ],
             [
              0.1111111111111111,
              "#46039f"
             ],
             [
              0.2222222222222222,
              "#7201a8"
             ],
             [
              0.3333333333333333,
              "#9c179e"
             ],
             [
              0.4444444444444444,
              "#bd3786"
             ],
             [
              0.5555555555555556,
              "#d8576b"
             ],
             [
              0.6666666666666666,
              "#ed7953"
             ],
             [
              0.7777777777777778,
              "#fb9f3a"
             ],
             [
              0.8888888888888888,
              "#fdca26"
             ],
             [
              1,
              "#f0f921"
             ]
            ],
            "type": "histogram2dcontour"
           }
          ],
          "mesh3d": [
           {
            "colorbar": {
             "outlinewidth": 0,
             "ticks": ""
            },
            "type": "mesh3d"
           }
          ],
          "parcoords": [
           {
            "line": {
             "colorbar": {
              "outlinewidth": 0,
              "ticks": ""
             }
            },
            "type": "parcoords"
           }
          ],
          "pie": [
           {
            "automargin": true,
            "type": "pie"
           }
          ],
          "scatter": [
           {
            "fillpattern": {
             "fillmode": "overlay",
             "size": 10,
             "solidity": 0.2
            },
            "type": "scatter"
           }
          ],
          "scatter3d": [
           {
            "line": {
             "colorbar": {
              "outlinewidth": 0,
              "ticks": ""
             }
            },
            "marker": {
             "colorbar": {
              "outlinewidth": 0,
              "ticks": ""
             }
            },
            "type": "scatter3d"
           }
          ],
          "scattercarpet": [
           {
            "marker": {
             "colorbar": {
              "outlinewidth": 0,
              "ticks": ""
             }
            },
            "type": "scattercarpet"
           }
          ],
          "scattergeo": [
           {
            "marker": {
             "colorbar": {
              "outlinewidth": 0,
              "ticks": ""
             }
            },
            "type": "scattergeo"
           }
          ],
          "scattergl": [
           {
            "marker": {
             "colorbar": {
              "outlinewidth": 0,
              "ticks": ""
             }
            },
            "type": "scattergl"
           }
          ],
          "scattermapbox": [
           {
            "marker": {
             "colorbar": {
              "outlinewidth": 0,
              "ticks": ""
             }
            },
            "type": "scattermapbox"
           }
          ],
          "scatterpolar": [
           {
            "marker": {
             "colorbar": {
              "outlinewidth": 0,
              "ticks": ""
             }
            },
            "type": "scatterpolar"
           }
          ],
          "scatterpolargl": [
           {
            "marker": {
             "colorbar": {
              "outlinewidth": 0,
              "ticks": ""
             }
            },
            "type": "scatterpolargl"
           }
          ],
          "scatterternary": [
           {
            "marker": {
             "colorbar": {
              "outlinewidth": 0,
              "ticks": ""
             }
            },
            "type": "scatterternary"
           }
          ],
          "surface": [
           {
            "colorbar": {
             "outlinewidth": 0,
             "ticks": ""
            },
            "colorscale": [
             [
              0,
              "#0d0887"
             ],
             [
              0.1111111111111111,
              "#46039f"
             ],
             [
              0.2222222222222222,
              "#7201a8"
             ],
             [
              0.3333333333333333,
              "#9c179e"
             ],
             [
              0.4444444444444444,
              "#bd3786"
             ],
             [
              0.5555555555555556,
              "#d8576b"
             ],
             [
              0.6666666666666666,
              "#ed7953"
             ],
             [
              0.7777777777777778,
              "#fb9f3a"
             ],
             [
              0.8888888888888888,
              "#fdca26"
             ],
             [
              1,
              "#f0f921"
             ]
            ],
            "type": "surface"
           }
          ],
          "table": [
           {
            "cells": {
             "fill": {
              "color": "#EBF0F8"
             },
             "line": {
              "color": "white"
             }
            },
            "header": {
             "fill": {
              "color": "#C8D4E3"
             },
             "line": {
              "color": "white"
             }
            },
            "type": "table"
           }
          ]
         },
         "layout": {
          "annotationdefaults": {
           "arrowcolor": "#2a3f5f",
           "arrowhead": 0,
           "arrowwidth": 1
          },
          "autotypenumbers": "strict",
          "coloraxis": {
           "colorbar": {
            "outlinewidth": 0,
            "ticks": ""
           }
          },
          "colorscale": {
           "diverging": [
            [
             0,
             "#8e0152"
            ],
            [
             0.1,
             "#c51b7d"
            ],
            [
             0.2,
             "#de77ae"
            ],
            [
             0.3,
             "#f1b6da"
            ],
            [
             0.4,
             "#fde0ef"
            ],
            [
             0.5,
             "#f7f7f7"
            ],
            [
             0.6,
             "#e6f5d0"
            ],
            [
             0.7,
             "#b8e186"
            ],
            [
             0.8,
             "#7fbc41"
            ],
            [
             0.9,
             "#4d9221"
            ],
            [
             1,
             "#276419"
            ]
           ],
           "sequential": [
            [
             0,
             "#0d0887"
            ],
            [
             0.1111111111111111,
             "#46039f"
            ],
            [
             0.2222222222222222,
             "#7201a8"
            ],
            [
             0.3333333333333333,
             "#9c179e"
            ],
            [
             0.4444444444444444,
             "#bd3786"
            ],
            [
             0.5555555555555556,
             "#d8576b"
            ],
            [
             0.6666666666666666,
             "#ed7953"
            ],
            [
             0.7777777777777778,
             "#fb9f3a"
            ],
            [
             0.8888888888888888,
             "#fdca26"
            ],
            [
             1,
             "#f0f921"
            ]
           ],
           "sequentialminus": [
            [
             0,
             "#0d0887"
            ],
            [
             0.1111111111111111,
             "#46039f"
            ],
            [
             0.2222222222222222,
             "#7201a8"
            ],
            [
             0.3333333333333333,
             "#9c179e"
            ],
            [
             0.4444444444444444,
             "#bd3786"
            ],
            [
             0.5555555555555556,
             "#d8576b"
            ],
            [
             0.6666666666666666,
             "#ed7953"
            ],
            [
             0.7777777777777778,
             "#fb9f3a"
            ],
            [
             0.8888888888888888,
             "#fdca26"
            ],
            [
             1,
             "#f0f921"
            ]
           ]
          },
          "colorway": [
           "#636efa",
           "#EF553B",
           "#00cc96",
           "#ab63fa",
           "#FFA15A",
           "#19d3f3",
           "#FF6692",
           "#B6E880",
           "#FF97FF",
           "#FECB52"
          ],
          "font": {
           "color": "#2a3f5f"
          },
          "geo": {
           "bgcolor": "white",
           "lakecolor": "white",
           "landcolor": "#E5ECF6",
           "showlakes": true,
           "showland": true,
           "subunitcolor": "white"
          },
          "hoverlabel": {
           "align": "left"
          },
          "hovermode": "closest",
          "mapbox": {
           "style": "light"
          },
          "paper_bgcolor": "white",
          "plot_bgcolor": "#E5ECF6",
          "polar": {
           "angularaxis": {
            "gridcolor": "white",
            "linecolor": "white",
            "ticks": ""
           },
           "bgcolor": "#E5ECF6",
           "radialaxis": {
            "gridcolor": "white",
            "linecolor": "white",
            "ticks": ""
           }
          },
          "scene": {
           "xaxis": {
            "backgroundcolor": "#E5ECF6",
            "gridcolor": "white",
            "gridwidth": 2,
            "linecolor": "white",
            "showbackground": true,
            "ticks": "",
            "zerolinecolor": "white"
           },
           "yaxis": {
            "backgroundcolor": "#E5ECF6",
            "gridcolor": "white",
            "gridwidth": 2,
            "linecolor": "white",
            "showbackground": true,
            "ticks": "",
            "zerolinecolor": "white"
           },
           "zaxis": {
            "backgroundcolor": "#E5ECF6",
            "gridcolor": "white",
            "gridwidth": 2,
            "linecolor": "white",
            "showbackground": true,
            "ticks": "",
            "zerolinecolor": "white"
           }
          },
          "shapedefaults": {
           "line": {
            "color": "#2a3f5f"
           }
          },
          "ternary": {
           "aaxis": {
            "gridcolor": "white",
            "linecolor": "white",
            "ticks": ""
           },
           "baxis": {
            "gridcolor": "white",
            "linecolor": "white",
            "ticks": ""
           },
           "bgcolor": "#E5ECF6",
           "caxis": {
            "gridcolor": "white",
            "linecolor": "white",
            "ticks": ""
           }
          },
          "title": {
           "x": 0.05
          },
          "xaxis": {
           "automargin": true,
           "gridcolor": "white",
           "linecolor": "white",
           "ticks": "",
           "title": {
            "standoff": 15
           },
           "zerolinecolor": "white",
           "zerolinewidth": 2
          },
          "yaxis": {
           "automargin": true,
           "gridcolor": "white",
           "linecolor": "white",
           "ticks": "",
           "title": {
            "standoff": 15
           },
           "zerolinecolor": "white",
           "zerolinewidth": 2
          }
         }
        },
        "title": {
         "text": "Casos de dengue por municipio en Yucatán"
        },
        "xaxis": {
         "anchor": "y",
         "categoryarray": [
          "MÉRIDA",
          "KANASÍN",
          "TIZIMÍN",
          "TEKAX",
          "VALLADOLID",
          "UMÁN",
          "TICUL",
          "PETO",
          "OXKUTZCAB",
          "MOTUL",
          "CHEMAX",
          "PROGRESO",
          "TZUCACAB",
          "TINUM",
          "BUCTZOTZ",
          "CELESTÚN",
          "ESPITA",
          "MAXCANÚ",
          "HALACHÓ",
          "HUNUCMÁ",
          "CHICHIMILÁ",
          "MANÍ",
          "TECOH",
          "TEMOZÓN",
          "TIXMEHUAC",
          "AKIL",
          "TIXKOKOB",
          "DZÁN",
          "SACALUM",
          "MUNA",
          "TIXCACALCUPUL",
          "CHIKINDZONOT",
          "YAXCABÁ",
          "OPICHÉN",
          "IZAMAL",
          "KINCHIL",
          "CACALCHÉN",
          "CHACSINKÍN",
          "CONKAL",
          "PANABÁ",
          "ACANCEH",
          "UAYMA",
          "CUNCUNUL",
          "SANTA ELENA",
          "MUXUPIP",
          "TEABO",
          "DZEMUL",
          "TUNKÁS",
          "CHANKOM",
          "CHUMAYEL",
          "CHICXULUB PUEBLO",
          "DZILAM GONZÁLEZ",
          "CHOCHOLÁ",
          "SUCILÁ",
          "CHAPAB",
          "KANTUNIL",
          "MAYAPÁN",
          "SAMAHIL",
          "DZITÁS",
          "UCÚ",
          "CUZAMÁ",
          "SAN FELIPE",
          "TEYA",
          "TEKANTÓ",
          "HOCABÁ",
          "BACA",
          "TETIZ",
          "TIMUCUY",
          "KOPOMÁ",
          "TEMAX",
          "HOMÚN",
          "BOKOBÁ",
          "SEYÉ",
          "SOTUTA",
          "CALOTMUL",
          "TAHDZIÚ",
          "CANSAHCAB",
          "DZIDZANTÚN",
          "TEKIT",
          "YAXKUKUL",
          "IXIL",
          "TELCHAC PUEBLO",
          "SANAHCAT",
          "TEKOM",
          "SUMA",
          "SINANCHÉ",
          "YOBAÍN",
          "MAMA",
          "KAUA",
          "HUHÍ",
          "TIXPÉHUAL",
          "ABALÁ",
          "MOCOCHÁ",
          "HOCTÚN",
          "RÍO LAGARTOS",
          "CANTAMAYEC",
          "SUDZAL",
          "TEKAL DE VENEGAS",
          "DZONCAUICH",
          "DZILAM DE BRAVO",
          "TEPAKÁN",
          "TELCHAC PUERTO",
          "CENOTILLO",
          "XOCCHEL",
          "TAHMEK",
          "QUINTANA ROO"
         ],
         "categoryorder": "array",
         "domain": [
          0,
          1
         ],
         "title": {
          "text": "Municipio"
         }
        },
        "yaxis": {
         "anchor": "x",
         "domain": [
          0,
          1
         ],
         "title": {
          "text": "Casos"
         }
        }
       }
      }
     },
     "metadata": {},
     "output_type": "display_data"
    }
   ],
   "source": [
    "# Graficamos los casos por municipio\n",
    "fig = px.bar(casos_por_municipio_YN, x='MUNICIPIO', y='CASOS', title='Casos de dengue por municipio en Yucatán',\n",
    "             category_orders={\"MUNICIPIO\": casos_por_municipio_YN.sort_values(by='CASOS', ascending=False)['MUNICIPIO']},\n",
    "             color='CASOS', labels={'CASOS': 'Número de casos'})\n",
    "fig.update_layout(xaxis_title='Municipio', yaxis_title='Casos')\n",
    "fig.show()"
   ]
  },
  {
   "cell_type": "markdown",
   "metadata": {},
   "source": [
    "Proseguiremos analizando a Sonora para ver la distribución de los casos en nuestro estado. Esperariamos que de igual manera que en Yucatán, Hermosillo fuera el municipio con mayor número de infectados. \n",
    "\n",
    "Como se observa en la siguiente gráfica, en Hermosillo se encuentran el grueso de los infectados en el estado. Sin embargo, la diferencia entre la cantidad de casos entre la capital y los otros municipios no es destacable, como se observó en Yucatán, llegando a solo unas decenas de personas comparandolo con el segundo municipio con más casos."
   ]
  },
  {
   "cell_type": "code",
   "execution_count": 26,
   "metadata": {},
   "outputs": [],
   "source": [
    "casos_por_municipio_SR = df[df['ENTIDAD_RES'] == 26].groupby('MUNICIPIO_RES').size().reset_index(name='CASOS')\n",
    "municipio_SR = pd.read_csv('data/MUNICIPIO.csv')\n",
    "municipio_SR = municipio_SR[municipio_SR['CLAVE_ENTIDAD'] == '26']\n",
    "municipio_SR = municipio_SR[['CLAVE_MUNICIPIO', 'MUNICIPIO']]\n",
    "casos_por_municipio_SR = casos_por_municipio_SR.merge(municipio_SR, left_on = 'MUNICIPIO_RES', right_on= 'CLAVE_MUNICIPIO',how='left')"
   ]
  },
  {
   "cell_type": "code",
   "execution_count": 27,
   "metadata": {},
   "outputs": [
    {
     "data": {
      "application/vnd.plotly.v1+json": {
       "config": {
        "plotlyServerURL": "https://plot.ly"
       },
       "data": [
        {
         "alignmentgroup": "True",
         "hovertemplate": "MUNICIPIO=%{x}<br>Número de casos=%{marker.color}<extra></extra>",
         "legendgroup": "",
         "marker": {
          "color": [
           2,
           8,
           13,
           1,
           2,
           61,
           2,
           1,
           1,
           24,
           22,
           32,
           181,
           16,
           2,
           1,
           1,
           142,
           5,
           3,
           3,
           2,
           1,
           4,
           3,
           1,
           4,
           1
          ],
          "coloraxis": "coloraxis",
          "pattern": {
           "shape": ""
          }
         },
         "name": "",
         "offsetgroup": "",
         "orientation": "v",
         "showlegend": false,
         "textposition": "auto",
         "type": "bar",
         "x": [
          "AGUA PRIETA",
          "ALAMOS",
          "BÁCUM",
          "BENJAMÍN HILL",
          "CABORCA",
          "CAJEME",
          "CANANEA",
          "CUMPAS",
          "DIVISADEROS",
          "EMPALME",
          "ETCHOJOA",
          "GUAYMAS",
          "HERMOSILLO",
          "HUATABAMPO",
          "MAZATÁN",
          "MOCTEZUMA",
          "NÁCORI CHICO",
          "NAVOJOA",
          "NOGALES",
          "PUERTO PEÑASCO",
          "QUIRIEGO",
          "RAYÓN",
          "SAN LUIS RÍO COLORADO",
          "SAN MIGUEL DE HORCASITAS",
          "URES",
          "YÉCORA",
          "BENITO JUÁREZ",
          "SAN IGNACIO RÍO MUERTO"
         ],
         "xaxis": "x",
         "y": [
          2,
          8,
          13,
          1,
          2,
          61,
          2,
          1,
          1,
          24,
          22,
          32,
          181,
          16,
          2,
          1,
          1,
          142,
          5,
          3,
          3,
          2,
          1,
          4,
          3,
          1,
          4,
          1
         ],
         "yaxis": "y"
        }
       ],
       "layout": {
        "barmode": "relative",
        "coloraxis": {
         "colorbar": {
          "title": {
           "text": "Número de casos"
          }
         },
         "colorscale": [
          [
           0,
           "#0d0887"
          ],
          [
           0.1111111111111111,
           "#46039f"
          ],
          [
           0.2222222222222222,
           "#7201a8"
          ],
          [
           0.3333333333333333,
           "#9c179e"
          ],
          [
           0.4444444444444444,
           "#bd3786"
          ],
          [
           0.5555555555555556,
           "#d8576b"
          ],
          [
           0.6666666666666666,
           "#ed7953"
          ],
          [
           0.7777777777777778,
           "#fb9f3a"
          ],
          [
           0.8888888888888888,
           "#fdca26"
          ],
          [
           1,
           "#f0f921"
          ]
         ]
        },
        "legend": {
         "tracegroupgap": 0
        },
        "template": {
         "data": {
          "bar": [
           {
            "error_x": {
             "color": "#2a3f5f"
            },
            "error_y": {
             "color": "#2a3f5f"
            },
            "marker": {
             "line": {
              "color": "#E5ECF6",
              "width": 0.5
             },
             "pattern": {
              "fillmode": "overlay",
              "size": 10,
              "solidity": 0.2
             }
            },
            "type": "bar"
           }
          ],
          "barpolar": [
           {
            "marker": {
             "line": {
              "color": "#E5ECF6",
              "width": 0.5
             },
             "pattern": {
              "fillmode": "overlay",
              "size": 10,
              "solidity": 0.2
             }
            },
            "type": "barpolar"
           }
          ],
          "carpet": [
           {
            "aaxis": {
             "endlinecolor": "#2a3f5f",
             "gridcolor": "white",
             "linecolor": "white",
             "minorgridcolor": "white",
             "startlinecolor": "#2a3f5f"
            },
            "baxis": {
             "endlinecolor": "#2a3f5f",
             "gridcolor": "white",
             "linecolor": "white",
             "minorgridcolor": "white",
             "startlinecolor": "#2a3f5f"
            },
            "type": "carpet"
           }
          ],
          "choropleth": [
           {
            "colorbar": {
             "outlinewidth": 0,
             "ticks": ""
            },
            "type": "choropleth"
           }
          ],
          "contour": [
           {
            "colorbar": {
             "outlinewidth": 0,
             "ticks": ""
            },
            "colorscale": [
             [
              0,
              "#0d0887"
             ],
             [
              0.1111111111111111,
              "#46039f"
             ],
             [
              0.2222222222222222,
              "#7201a8"
             ],
             [
              0.3333333333333333,
              "#9c179e"
             ],
             [
              0.4444444444444444,
              "#bd3786"
             ],
             [
              0.5555555555555556,
              "#d8576b"
             ],
             [
              0.6666666666666666,
              "#ed7953"
             ],
             [
              0.7777777777777778,
              "#fb9f3a"
             ],
             [
              0.8888888888888888,
              "#fdca26"
             ],
             [
              1,
              "#f0f921"
             ]
            ],
            "type": "contour"
           }
          ],
          "contourcarpet": [
           {
            "colorbar": {
             "outlinewidth": 0,
             "ticks": ""
            },
            "type": "contourcarpet"
           }
          ],
          "heatmap": [
           {
            "colorbar": {
             "outlinewidth": 0,
             "ticks": ""
            },
            "colorscale": [
             [
              0,
              "#0d0887"
             ],
             [
              0.1111111111111111,
              "#46039f"
             ],
             [
              0.2222222222222222,
              "#7201a8"
             ],
             [
              0.3333333333333333,
              "#9c179e"
             ],
             [
              0.4444444444444444,
              "#bd3786"
             ],
             [
              0.5555555555555556,
              "#d8576b"
             ],
             [
              0.6666666666666666,
              "#ed7953"
             ],
             [
              0.7777777777777778,
              "#fb9f3a"
             ],
             [
              0.8888888888888888,
              "#fdca26"
             ],
             [
              1,
              "#f0f921"
             ]
            ],
            "type": "heatmap"
           }
          ],
          "heatmapgl": [
           {
            "colorbar": {
             "outlinewidth": 0,
             "ticks": ""
            },
            "colorscale": [
             [
              0,
              "#0d0887"
             ],
             [
              0.1111111111111111,
              "#46039f"
             ],
             [
              0.2222222222222222,
              "#7201a8"
             ],
             [
              0.3333333333333333,
              "#9c179e"
             ],
             [
              0.4444444444444444,
              "#bd3786"
             ],
             [
              0.5555555555555556,
              "#d8576b"
             ],
             [
              0.6666666666666666,
              "#ed7953"
             ],
             [
              0.7777777777777778,
              "#fb9f3a"
             ],
             [
              0.8888888888888888,
              "#fdca26"
             ],
             [
              1,
              "#f0f921"
             ]
            ],
            "type": "heatmapgl"
           }
          ],
          "histogram": [
           {
            "marker": {
             "pattern": {
              "fillmode": "overlay",
              "size": 10,
              "solidity": 0.2
             }
            },
            "type": "histogram"
           }
          ],
          "histogram2d": [
           {
            "colorbar": {
             "outlinewidth": 0,
             "ticks": ""
            },
            "colorscale": [
             [
              0,
              "#0d0887"
             ],
             [
              0.1111111111111111,
              "#46039f"
             ],
             [
              0.2222222222222222,
              "#7201a8"
             ],
             [
              0.3333333333333333,
              "#9c179e"
             ],
             [
              0.4444444444444444,
              "#bd3786"
             ],
             [
              0.5555555555555556,
              "#d8576b"
             ],
             [
              0.6666666666666666,
              "#ed7953"
             ],
             [
              0.7777777777777778,
              "#fb9f3a"
             ],
             [
              0.8888888888888888,
              "#fdca26"
             ],
             [
              1,
              "#f0f921"
             ]
            ],
            "type": "histogram2d"
           }
          ],
          "histogram2dcontour": [
           {
            "colorbar": {
             "outlinewidth": 0,
             "ticks": ""
            },
            "colorscale": [
             [
              0,
              "#0d0887"
             ],
             [
              0.1111111111111111,
              "#46039f"
             ],
             [
              0.2222222222222222,
              "#7201a8"
             ],
             [
              0.3333333333333333,
              "#9c179e"
             ],
             [
              0.4444444444444444,
              "#bd3786"
             ],
             [
              0.5555555555555556,
              "#d8576b"
             ],
             [
              0.6666666666666666,
              "#ed7953"
             ],
             [
              0.7777777777777778,
              "#fb9f3a"
             ],
             [
              0.8888888888888888,
              "#fdca26"
             ],
             [
              1,
              "#f0f921"
             ]
            ],
            "type": "histogram2dcontour"
           }
          ],
          "mesh3d": [
           {
            "colorbar": {
             "outlinewidth": 0,
             "ticks": ""
            },
            "type": "mesh3d"
           }
          ],
          "parcoords": [
           {
            "line": {
             "colorbar": {
              "outlinewidth": 0,
              "ticks": ""
             }
            },
            "type": "parcoords"
           }
          ],
          "pie": [
           {
            "automargin": true,
            "type": "pie"
           }
          ],
          "scatter": [
           {
            "fillpattern": {
             "fillmode": "overlay",
             "size": 10,
             "solidity": 0.2
            },
            "type": "scatter"
           }
          ],
          "scatter3d": [
           {
            "line": {
             "colorbar": {
              "outlinewidth": 0,
              "ticks": ""
             }
            },
            "marker": {
             "colorbar": {
              "outlinewidth": 0,
              "ticks": ""
             }
            },
            "type": "scatter3d"
           }
          ],
          "scattercarpet": [
           {
            "marker": {
             "colorbar": {
              "outlinewidth": 0,
              "ticks": ""
             }
            },
            "type": "scattercarpet"
           }
          ],
          "scattergeo": [
           {
            "marker": {
             "colorbar": {
              "outlinewidth": 0,
              "ticks": ""
             }
            },
            "type": "scattergeo"
           }
          ],
          "scattergl": [
           {
            "marker": {
             "colorbar": {
              "outlinewidth": 0,
              "ticks": ""
             }
            },
            "type": "scattergl"
           }
          ],
          "scattermapbox": [
           {
            "marker": {
             "colorbar": {
              "outlinewidth": 0,
              "ticks": ""
             }
            },
            "type": "scattermapbox"
           }
          ],
          "scatterpolar": [
           {
            "marker": {
             "colorbar": {
              "outlinewidth": 0,
              "ticks": ""
             }
            },
            "type": "scatterpolar"
           }
          ],
          "scatterpolargl": [
           {
            "marker": {
             "colorbar": {
              "outlinewidth": 0,
              "ticks": ""
             }
            },
            "type": "scatterpolargl"
           }
          ],
          "scatterternary": [
           {
            "marker": {
             "colorbar": {
              "outlinewidth": 0,
              "ticks": ""
             }
            },
            "type": "scatterternary"
           }
          ],
          "surface": [
           {
            "colorbar": {
             "outlinewidth": 0,
             "ticks": ""
            },
            "colorscale": [
             [
              0,
              "#0d0887"
             ],
             [
              0.1111111111111111,
              "#46039f"
             ],
             [
              0.2222222222222222,
              "#7201a8"
             ],
             [
              0.3333333333333333,
              "#9c179e"
             ],
             [
              0.4444444444444444,
              "#bd3786"
             ],
             [
              0.5555555555555556,
              "#d8576b"
             ],
             [
              0.6666666666666666,
              "#ed7953"
             ],
             [
              0.7777777777777778,
              "#fb9f3a"
             ],
             [
              0.8888888888888888,
              "#fdca26"
             ],
             [
              1,
              "#f0f921"
             ]
            ],
            "type": "surface"
           }
          ],
          "table": [
           {
            "cells": {
             "fill": {
              "color": "#EBF0F8"
             },
             "line": {
              "color": "white"
             }
            },
            "header": {
             "fill": {
              "color": "#C8D4E3"
             },
             "line": {
              "color": "white"
             }
            },
            "type": "table"
           }
          ]
         },
         "layout": {
          "annotationdefaults": {
           "arrowcolor": "#2a3f5f",
           "arrowhead": 0,
           "arrowwidth": 1
          },
          "autotypenumbers": "strict",
          "coloraxis": {
           "colorbar": {
            "outlinewidth": 0,
            "ticks": ""
           }
          },
          "colorscale": {
           "diverging": [
            [
             0,
             "#8e0152"
            ],
            [
             0.1,
             "#c51b7d"
            ],
            [
             0.2,
             "#de77ae"
            ],
            [
             0.3,
             "#f1b6da"
            ],
            [
             0.4,
             "#fde0ef"
            ],
            [
             0.5,
             "#f7f7f7"
            ],
            [
             0.6,
             "#e6f5d0"
            ],
            [
             0.7,
             "#b8e186"
            ],
            [
             0.8,
             "#7fbc41"
            ],
            [
             0.9,
             "#4d9221"
            ],
            [
             1,
             "#276419"
            ]
           ],
           "sequential": [
            [
             0,
             "#0d0887"
            ],
            [
             0.1111111111111111,
             "#46039f"
            ],
            [
             0.2222222222222222,
             "#7201a8"
            ],
            [
             0.3333333333333333,
             "#9c179e"
            ],
            [
             0.4444444444444444,
             "#bd3786"
            ],
            [
             0.5555555555555556,
             "#d8576b"
            ],
            [
             0.6666666666666666,
             "#ed7953"
            ],
            [
             0.7777777777777778,
             "#fb9f3a"
            ],
            [
             0.8888888888888888,
             "#fdca26"
            ],
            [
             1,
             "#f0f921"
            ]
           ],
           "sequentialminus": [
            [
             0,
             "#0d0887"
            ],
            [
             0.1111111111111111,
             "#46039f"
            ],
            [
             0.2222222222222222,
             "#7201a8"
            ],
            [
             0.3333333333333333,
             "#9c179e"
            ],
            [
             0.4444444444444444,
             "#bd3786"
            ],
            [
             0.5555555555555556,
             "#d8576b"
            ],
            [
             0.6666666666666666,
             "#ed7953"
            ],
            [
             0.7777777777777778,
             "#fb9f3a"
            ],
            [
             0.8888888888888888,
             "#fdca26"
            ],
            [
             1,
             "#f0f921"
            ]
           ]
          },
          "colorway": [
           "#636efa",
           "#EF553B",
           "#00cc96",
           "#ab63fa",
           "#FFA15A",
           "#19d3f3",
           "#FF6692",
           "#B6E880",
           "#FF97FF",
           "#FECB52"
          ],
          "font": {
           "color": "#2a3f5f"
          },
          "geo": {
           "bgcolor": "white",
           "lakecolor": "white",
           "landcolor": "#E5ECF6",
           "showlakes": true,
           "showland": true,
           "subunitcolor": "white"
          },
          "hoverlabel": {
           "align": "left"
          },
          "hovermode": "closest",
          "mapbox": {
           "style": "light"
          },
          "paper_bgcolor": "white",
          "plot_bgcolor": "#E5ECF6",
          "polar": {
           "angularaxis": {
            "gridcolor": "white",
            "linecolor": "white",
            "ticks": ""
           },
           "bgcolor": "#E5ECF6",
           "radialaxis": {
            "gridcolor": "white",
            "linecolor": "white",
            "ticks": ""
           }
          },
          "scene": {
           "xaxis": {
            "backgroundcolor": "#E5ECF6",
            "gridcolor": "white",
            "gridwidth": 2,
            "linecolor": "white",
            "showbackground": true,
            "ticks": "",
            "zerolinecolor": "white"
           },
           "yaxis": {
            "backgroundcolor": "#E5ECF6",
            "gridcolor": "white",
            "gridwidth": 2,
            "linecolor": "white",
            "showbackground": true,
            "ticks": "",
            "zerolinecolor": "white"
           },
           "zaxis": {
            "backgroundcolor": "#E5ECF6",
            "gridcolor": "white",
            "gridwidth": 2,
            "linecolor": "white",
            "showbackground": true,
            "ticks": "",
            "zerolinecolor": "white"
           }
          },
          "shapedefaults": {
           "line": {
            "color": "#2a3f5f"
           }
          },
          "ternary": {
           "aaxis": {
            "gridcolor": "white",
            "linecolor": "white",
            "ticks": ""
           },
           "baxis": {
            "gridcolor": "white",
            "linecolor": "white",
            "ticks": ""
           },
           "bgcolor": "#E5ECF6",
           "caxis": {
            "gridcolor": "white",
            "linecolor": "white",
            "ticks": ""
           }
          },
          "title": {
           "x": 0.05
          },
          "xaxis": {
           "automargin": true,
           "gridcolor": "white",
           "linecolor": "white",
           "ticks": "",
           "title": {
            "standoff": 15
           },
           "zerolinecolor": "white",
           "zerolinewidth": 2
          },
          "yaxis": {
           "automargin": true,
           "gridcolor": "white",
           "linecolor": "white",
           "ticks": "",
           "title": {
            "standoff": 15
           },
           "zerolinecolor": "white",
           "zerolinewidth": 2
          }
         }
        },
        "title": {
         "text": "Casos de dengue por municipio en Yucatán"
        },
        "xaxis": {
         "anchor": "y",
         "categoryarray": [
          "HERMOSILLO",
          "NAVOJOA",
          "CAJEME",
          "GUAYMAS",
          "EMPALME",
          "ETCHOJOA",
          "HUATABAMPO",
          "BÁCUM",
          "ALAMOS",
          "NOGALES",
          "BENITO JUÁREZ",
          "SAN MIGUEL DE HORCASITAS",
          "PUERTO PEÑASCO",
          "QUIRIEGO",
          "URES",
          "RAYÓN",
          "AGUA PRIETA",
          "MAZATÁN",
          "CANANEA",
          "CABORCA",
          "NÁCORI CHICO",
          "MOCTEZUMA",
          "DIVISADEROS",
          "CUMPAS",
          "SAN LUIS RÍO COLORADO",
          "YÉCORA",
          "BENJAMÍN HILL",
          "SAN IGNACIO RÍO MUERTO"
         ],
         "categoryorder": "array",
         "domain": [
          0,
          1
         ],
         "title": {
          "text": "Municipio"
         }
        },
        "yaxis": {
         "anchor": "x",
         "domain": [
          0,
          1
         ],
         "title": {
          "text": "Casos"
         }
        }
       }
      }
     },
     "metadata": {},
     "output_type": "display_data"
    }
   ],
   "source": [
    "# Graficamos los casos por municipio\n",
    "fig = px.bar(casos_por_municipio_SR, x='MUNICIPIO', y='CASOS', title='Casos de dengue por municipio en Yucatán',\n",
    "             category_orders={\"MUNICIPIO\": casos_por_municipio_SR.sort_values(by='CASOS', ascending=False)['MUNICIPIO']},\n",
    "             color='CASOS', labels={'CASOS': 'Número de casos'})\n",
    "fig.update_layout(xaxis_title='Municipio', yaxis_title='Casos')\n",
    "fig.show()"
   ]
  },
  {
   "cell_type": "code",
   "execution_count": null,
   "metadata": {},
   "outputs": [],
   "source": []
  },
  {
   "cell_type": "code",
   "execution_count": null,
   "metadata": {},
   "outputs": [],
   "source": []
  },
  {
   "cell_type": "code",
   "execution_count": null,
   "metadata": {},
   "outputs": [],
   "source": []
  },
  {
   "cell_type": "code",
   "execution_count": null,
   "metadata": {},
   "outputs": [],
   "source": []
  },
  {
   "cell_type": "code",
   "execution_count": 15,
   "metadata": {},
   "outputs": [],
   "source": [
    "# Cerrar la conexión\n",
    "conn.close()"
   ]
  },
  {
   "cell_type": "code",
   "execution_count": null,
   "metadata": {},
   "outputs": [],
   "source": []
  }
 ],
 "metadata": {
  "kernelspec": {
   "display_name": "Python 3",
   "language": "python",
   "name": "python3"
  },
  "language_info": {
   "codemirror_mode": {
    "name": "ipython",
    "version": 3
   },
   "file_extension": ".py",
   "mimetype": "text/x-python",
   "name": "python",
   "nbconvert_exporter": "python",
   "pygments_lexer": "ipython3",
   "version": "3.9.7"
  }
 },
 "nbformat": 4,
 "nbformat_minor": 2
}
